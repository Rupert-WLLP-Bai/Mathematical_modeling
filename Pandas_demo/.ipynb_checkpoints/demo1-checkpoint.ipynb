{
 "cells": [
  {
   "cell_type": "code",
   "execution_count": 1,
   "id": "c71cc26b",
   "metadata": {},
   "outputs": [],
   "source": [
    "import numpy as np"
   ]
  },
  {
   "cell_type": "code",
   "execution_count": 2,
   "id": "e281cdb4",
   "metadata": {},
   "outputs": [],
   "source": [
    "import pandas as pd"
   ]
  },
  {
   "cell_type": "code",
   "execution_count": 3,
   "id": "6991243e",
   "metadata": {},
   "outputs": [],
   "source": [
    "s = pd.Series([1,3,5,np.nan,6,8,10,12])"
   ]
  },
  {
   "cell_type": "code",
   "execution_count": 4,
   "id": "57fb19d1",
   "metadata": {},
   "outputs": [
    {
     "data": {
      "text/plain": [
       "0     1.0\n",
       "1     3.0\n",
       "2     5.0\n",
       "3     NaN\n",
       "4     6.0\n",
       "5     8.0\n",
       "6    10.0\n",
       "7    12.0\n",
       "dtype: float64"
      ]
     },
     "execution_count": 4,
     "metadata": {},
     "output_type": "execute_result"
    }
   ],
   "source": [
    "s"
   ]
  },
  {
   "cell_type": "code",
   "execution_count": 5,
   "id": "b3c7786f",
   "metadata": {},
   "outputs": [],
   "source": [
    "dates = pd.date_range(\"20011230\", periods=8)"
   ]
  },
  {
   "cell_type": "code",
   "execution_count": 6,
   "id": "77142653",
   "metadata": {},
   "outputs": [
    {
     "data": {
      "text/plain": [
       "DatetimeIndex(['2001-12-30', '2001-12-31', '2002-01-01', '2002-01-02',\n",
       "               '2002-01-03', '2002-01-04', '2002-01-05', '2002-01-06'],\n",
       "              dtype='datetime64[ns]', freq='D')"
      ]
     },
     "execution_count": 6,
     "metadata": {},
     "output_type": "execute_result"
    }
   ],
   "source": [
    "dates"
   ]
  },
  {
   "cell_type": "code",
   "execution_count": 7,
   "id": "18044331",
   "metadata": {},
   "outputs": [],
   "source": [
    "df = pd.DataFrame(np.random.randn(len(dates), 4), index=dates, columns=list(\"ABCD\"))"
   ]
  },
  {
   "cell_type": "code",
   "execution_count": 8,
   "id": "cd8309af",
   "metadata": {},
   "outputs": [
    {
     "data": {
      "text/html": [
       "<div>\n",
       "<style scoped>\n",
       "    .dataframe tbody tr th:only-of-type {\n",
       "        vertical-align: middle;\n",
       "    }\n",
       "\n",
       "    .dataframe tbody tr th {\n",
       "        vertical-align: top;\n",
       "    }\n",
       "\n",
       "    .dataframe thead th {\n",
       "        text-align: right;\n",
       "    }\n",
       "</style>\n",
       "<table border=\"1\" class=\"dataframe\">\n",
       "  <thead>\n",
       "    <tr style=\"text-align: right;\">\n",
       "      <th></th>\n",
       "      <th>A</th>\n",
       "      <th>B</th>\n",
       "      <th>C</th>\n",
       "      <th>D</th>\n",
       "    </tr>\n",
       "  </thead>\n",
       "  <tbody>\n",
       "    <tr>\n",
       "      <th>2001-12-30</th>\n",
       "      <td>1.447905</td>\n",
       "      <td>-1.585072</td>\n",
       "      <td>-0.596625</td>\n",
       "      <td>-0.120175</td>\n",
       "    </tr>\n",
       "    <tr>\n",
       "      <th>2001-12-31</th>\n",
       "      <td>2.153064</td>\n",
       "      <td>-0.125871</td>\n",
       "      <td>1.267238</td>\n",
       "      <td>-1.302097</td>\n",
       "    </tr>\n",
       "    <tr>\n",
       "      <th>2002-01-01</th>\n",
       "      <td>-0.449006</td>\n",
       "      <td>0.319571</td>\n",
       "      <td>-0.092478</td>\n",
       "      <td>0.578120</td>\n",
       "    </tr>\n",
       "    <tr>\n",
       "      <th>2002-01-02</th>\n",
       "      <td>-1.292372</td>\n",
       "      <td>-0.206607</td>\n",
       "      <td>0.454786</td>\n",
       "      <td>0.725670</td>\n",
       "    </tr>\n",
       "    <tr>\n",
       "      <th>2002-01-03</th>\n",
       "      <td>-0.471602</td>\n",
       "      <td>-0.376749</td>\n",
       "      <td>0.442159</td>\n",
       "      <td>-0.767200</td>\n",
       "    </tr>\n",
       "    <tr>\n",
       "      <th>2002-01-04</th>\n",
       "      <td>0.058514</td>\n",
       "      <td>-1.566337</td>\n",
       "      <td>-0.704556</td>\n",
       "      <td>-0.002059</td>\n",
       "    </tr>\n",
       "    <tr>\n",
       "      <th>2002-01-05</th>\n",
       "      <td>0.204571</td>\n",
       "      <td>-0.853162</td>\n",
       "      <td>1.638049</td>\n",
       "      <td>0.901371</td>\n",
       "    </tr>\n",
       "    <tr>\n",
       "      <th>2002-01-06</th>\n",
       "      <td>-0.711878</td>\n",
       "      <td>0.923243</td>\n",
       "      <td>0.404657</td>\n",
       "      <td>-0.719991</td>\n",
       "    </tr>\n",
       "  </tbody>\n",
       "</table>\n",
       "</div>"
      ],
      "text/plain": [
       "                   A         B         C         D\n",
       "2001-12-30  1.447905 -1.585072 -0.596625 -0.120175\n",
       "2001-12-31  2.153064 -0.125871  1.267238 -1.302097\n",
       "2002-01-01 -0.449006  0.319571 -0.092478  0.578120\n",
       "2002-01-02 -1.292372 -0.206607  0.454786  0.725670\n",
       "2002-01-03 -0.471602 -0.376749  0.442159 -0.767200\n",
       "2002-01-04  0.058514 -1.566337 -0.704556 -0.002059\n",
       "2002-01-05  0.204571 -0.853162  1.638049  0.901371\n",
       "2002-01-06 -0.711878  0.923243  0.404657 -0.719991"
      ]
     },
     "execution_count": 8,
     "metadata": {},
     "output_type": "execute_result"
    }
   ],
   "source": [
    "df"
   ]
  },
  {
   "cell_type": "code",
   "execution_count": 9,
   "id": "3c1adc55",
   "metadata": {},
   "outputs": [],
   "source": [
    "df2 = pd.DataFrame(\n",
    "    {\n",
    "        \"A\": 1.0,\n",
    "        \"B\": pd.Timestamp(\"20130102\"),\n",
    "        \"C\": pd.Series(1, index=list(range(4)), dtype=\"float32\"),\n",
    "        \"D\": np.array([3] * 4, dtype=\"int32\"),\n",
    "        \"E\": pd.Categorical([\"test\", \"train\", \"test\", \"train\"]),\n",
    "        \"F\": \"foo\",\n",
    "    }\n",
    ")"
   ]
  },
  {
   "cell_type": "code",
   "execution_count": 10,
   "id": "1e3b7d05",
   "metadata": {},
   "outputs": [
    {
     "data": {
      "text/html": [
       "<div>\n",
       "<style scoped>\n",
       "    .dataframe tbody tr th:only-of-type {\n",
       "        vertical-align: middle;\n",
       "    }\n",
       "\n",
       "    .dataframe tbody tr th {\n",
       "        vertical-align: top;\n",
       "    }\n",
       "\n",
       "    .dataframe thead th {\n",
       "        text-align: right;\n",
       "    }\n",
       "</style>\n",
       "<table border=\"1\" class=\"dataframe\">\n",
       "  <thead>\n",
       "    <tr style=\"text-align: right;\">\n",
       "      <th></th>\n",
       "      <th>A</th>\n",
       "      <th>B</th>\n",
       "      <th>C</th>\n",
       "      <th>D</th>\n",
       "      <th>E</th>\n",
       "      <th>F</th>\n",
       "    </tr>\n",
       "  </thead>\n",
       "  <tbody>\n",
       "    <tr>\n",
       "      <th>0</th>\n",
       "      <td>1.0</td>\n",
       "      <td>2013-01-02</td>\n",
       "      <td>1.0</td>\n",
       "      <td>3</td>\n",
       "      <td>test</td>\n",
       "      <td>foo</td>\n",
       "    </tr>\n",
       "    <tr>\n",
       "      <th>1</th>\n",
       "      <td>1.0</td>\n",
       "      <td>2013-01-02</td>\n",
       "      <td>1.0</td>\n",
       "      <td>3</td>\n",
       "      <td>train</td>\n",
       "      <td>foo</td>\n",
       "    </tr>\n",
       "    <tr>\n",
       "      <th>2</th>\n",
       "      <td>1.0</td>\n",
       "      <td>2013-01-02</td>\n",
       "      <td>1.0</td>\n",
       "      <td>3</td>\n",
       "      <td>test</td>\n",
       "      <td>foo</td>\n",
       "    </tr>\n",
       "    <tr>\n",
       "      <th>3</th>\n",
       "      <td>1.0</td>\n",
       "      <td>2013-01-02</td>\n",
       "      <td>1.0</td>\n",
       "      <td>3</td>\n",
       "      <td>train</td>\n",
       "      <td>foo</td>\n",
       "    </tr>\n",
       "  </tbody>\n",
       "</table>\n",
       "</div>"
      ],
      "text/plain": [
       "     A          B    C  D      E    F\n",
       "0  1.0 2013-01-02  1.0  3   test  foo\n",
       "1  1.0 2013-01-02  1.0  3  train  foo\n",
       "2  1.0 2013-01-02  1.0  3   test  foo\n",
       "3  1.0 2013-01-02  1.0  3  train  foo"
      ]
     },
     "execution_count": 10,
     "metadata": {},
     "output_type": "execute_result"
    }
   ],
   "source": [
    "df2"
   ]
  },
  {
   "cell_type": "code",
   "execution_count": 11,
   "id": "8d6d676b",
   "metadata": {},
   "outputs": [
    {
     "data": {
      "text/plain": [
       "A           float64\n",
       "B    datetime64[ns]\n",
       "C           float32\n",
       "D             int32\n",
       "E          category\n",
       "F            object\n",
       "dtype: object"
      ]
     },
     "execution_count": 11,
     "metadata": {},
     "output_type": "execute_result"
    }
   ],
   "source": [
    "df2.dtypes"
   ]
  },
  {
   "cell_type": "markdown",
   "id": "c99c9e4e",
   "metadata": {},
   "source": [
    "## 以下是查看框架顶行和底行的方法："
   ]
  },
  {
   "cell_type": "markdown",
   "id": "866bb136",
   "metadata": {},
   "source": [
    "### 选择单列，产生a.series"
   ]
  },
  {
   "cell_type": "code",
   "execution_count": 12,
   "id": "8fa583f7",
   "metadata": {},
   "outputs": [
    {
     "data": {
      "text/html": [
       "<div>\n",
       "<style scoped>\n",
       "    .dataframe tbody tr th:only-of-type {\n",
       "        vertical-align: middle;\n",
       "    }\n",
       "\n",
       "    .dataframe tbody tr th {\n",
       "        vertical-align: top;\n",
       "    }\n",
       "\n",
       "    .dataframe thead th {\n",
       "        text-align: right;\n",
       "    }\n",
       "</style>\n",
       "<table border=\"1\" class=\"dataframe\">\n",
       "  <thead>\n",
       "    <tr style=\"text-align: right;\">\n",
       "      <th></th>\n",
       "      <th>A</th>\n",
       "      <th>B</th>\n",
       "      <th>C</th>\n",
       "      <th>D</th>\n",
       "    </tr>\n",
       "  </thead>\n",
       "  <tbody>\n",
       "    <tr>\n",
       "      <th>2001-12-30</th>\n",
       "      <td>1.447905</td>\n",
       "      <td>-1.585072</td>\n",
       "      <td>-0.596625</td>\n",
       "      <td>-0.120175</td>\n",
       "    </tr>\n",
       "    <tr>\n",
       "      <th>2001-12-31</th>\n",
       "      <td>2.153064</td>\n",
       "      <td>-0.125871</td>\n",
       "      <td>1.267238</td>\n",
       "      <td>-1.302097</td>\n",
       "    </tr>\n",
       "    <tr>\n",
       "      <th>2002-01-01</th>\n",
       "      <td>-0.449006</td>\n",
       "      <td>0.319571</td>\n",
       "      <td>-0.092478</td>\n",
       "      <td>0.578120</td>\n",
       "    </tr>\n",
       "    <tr>\n",
       "      <th>2002-01-02</th>\n",
       "      <td>-1.292372</td>\n",
       "      <td>-0.206607</td>\n",
       "      <td>0.454786</td>\n",
       "      <td>0.725670</td>\n",
       "    </tr>\n",
       "    <tr>\n",
       "      <th>2002-01-03</th>\n",
       "      <td>-0.471602</td>\n",
       "      <td>-0.376749</td>\n",
       "      <td>0.442159</td>\n",
       "      <td>-0.767200</td>\n",
       "    </tr>\n",
       "  </tbody>\n",
       "</table>\n",
       "</div>"
      ],
      "text/plain": [
       "                   A         B         C         D\n",
       "2001-12-30  1.447905 -1.585072 -0.596625 -0.120175\n",
       "2001-12-31  2.153064 -0.125871  1.267238 -1.302097\n",
       "2002-01-01 -0.449006  0.319571 -0.092478  0.578120\n",
       "2002-01-02 -1.292372 -0.206607  0.454786  0.725670\n",
       "2002-01-03 -0.471602 -0.376749  0.442159 -0.767200"
      ]
     },
     "execution_count": 12,
     "metadata": {},
     "output_type": "execute_result"
    }
   ],
   "source": [
    "df.head()"
   ]
  },
  {
   "cell_type": "code",
   "execution_count": 13,
   "id": "b6b59e77",
   "metadata": {},
   "outputs": [
    {
     "data": {
      "text/html": [
       "<div>\n",
       "<style scoped>\n",
       "    .dataframe tbody tr th:only-of-type {\n",
       "        vertical-align: middle;\n",
       "    }\n",
       "\n",
       "    .dataframe tbody tr th {\n",
       "        vertical-align: top;\n",
       "    }\n",
       "\n",
       "    .dataframe thead th {\n",
       "        text-align: right;\n",
       "    }\n",
       "</style>\n",
       "<table border=\"1\" class=\"dataframe\">\n",
       "  <thead>\n",
       "    <tr style=\"text-align: right;\">\n",
       "      <th></th>\n",
       "      <th>A</th>\n",
       "      <th>B</th>\n",
       "      <th>C</th>\n",
       "      <th>D</th>\n",
       "    </tr>\n",
       "  </thead>\n",
       "  <tbody>\n",
       "    <tr>\n",
       "      <th>2002-01-04</th>\n",
       "      <td>0.058514</td>\n",
       "      <td>-1.566337</td>\n",
       "      <td>-0.704556</td>\n",
       "      <td>-0.002059</td>\n",
       "    </tr>\n",
       "    <tr>\n",
       "      <th>2002-01-05</th>\n",
       "      <td>0.204571</td>\n",
       "      <td>-0.853162</td>\n",
       "      <td>1.638049</td>\n",
       "      <td>0.901371</td>\n",
       "    </tr>\n",
       "    <tr>\n",
       "      <th>2002-01-06</th>\n",
       "      <td>-0.711878</td>\n",
       "      <td>0.923243</td>\n",
       "      <td>0.404657</td>\n",
       "      <td>-0.719991</td>\n",
       "    </tr>\n",
       "  </tbody>\n",
       "</table>\n",
       "</div>"
      ],
      "text/plain": [
       "                   A         B         C         D\n",
       "2002-01-04  0.058514 -1.566337 -0.704556 -0.002059\n",
       "2002-01-05  0.204571 -0.853162  1.638049  0.901371\n",
       "2002-01-06 -0.711878  0.923243  0.404657 -0.719991"
      ]
     },
     "execution_count": 13,
     "metadata": {},
     "output_type": "execute_result"
    }
   ],
   "source": [
    "df.tail(3)"
   ]
  },
  {
   "cell_type": "markdown",
   "id": "4c7d37c2",
   "metadata": {},
   "source": [
    "### 显示索引、列："
   ]
  },
  {
   "cell_type": "code",
   "execution_count": 14,
   "id": "4c6126ba",
   "metadata": {},
   "outputs": [
    {
     "data": {
      "text/plain": [
       "DatetimeIndex(['2001-12-30', '2001-12-31', '2002-01-01', '2002-01-02',\n",
       "               '2002-01-03', '2002-01-04', '2002-01-05', '2002-01-06'],\n",
       "              dtype='datetime64[ns]', freq='D')"
      ]
     },
     "execution_count": 14,
     "metadata": {},
     "output_type": "execute_result"
    }
   ],
   "source": [
    "df.index"
   ]
  },
  {
   "cell_type": "code",
   "execution_count": 15,
   "id": "8699ae82",
   "metadata": {},
   "outputs": [
    {
     "data": {
      "text/plain": [
       "Index(['A', 'B', 'C', 'D'], dtype='object')"
      ]
     },
     "execution_count": 15,
     "metadata": {},
     "output_type": "execute_result"
    }
   ],
   "source": [
    "df.columns"
   ]
  },
  {
   "cell_type": "markdown",
   "id": "6202dc54",
   "metadata": {},
   "source": [
    "DataFrame.to_numpy() gives a NumPy representation of the underlying data. Note that this can be an expensive operation when your DataFrame has columns with different data types, which comes down to a fundamental difference between pandas and NumPy: NumPy arrays have one dtype for the entire array, while pandas DataFrames have one dtype per column. When you call DataFrame.to_numpy(), pandas will find the NumPy dtype that can hold all of the dtypes in the DataFrame. This may end up being object, which requires casting every value to a Python object."
   ]
  },
  {
   "cell_type": "code",
   "execution_count": 16,
   "id": "ef4cd2d0",
   "metadata": {},
   "outputs": [
    {
     "data": {
      "text/plain": [
       "array([[ 1.44790503e+00, -1.58507184e+00, -5.96624826e-01,\n",
       "        -1.20175125e-01],\n",
       "       [ 2.15306365e+00, -1.25871026e-01,  1.26723751e+00,\n",
       "        -1.30209713e+00],\n",
       "       [-4.49006384e-01,  3.19571144e-01, -9.24780075e-02,\n",
       "         5.78119515e-01],\n",
       "       [-1.29237183e+00, -2.06606927e-01,  4.54785721e-01,\n",
       "         7.25670369e-01],\n",
       "       [-4.71602436e-01, -3.76749147e-01,  4.42158572e-01,\n",
       "        -7.67199515e-01],\n",
       "       [ 5.85144072e-02, -1.56633722e+00, -7.04555663e-01,\n",
       "        -2.05861071e-03],\n",
       "       [ 2.04570760e-01, -8.53162165e-01,  1.63804858e+00,\n",
       "         9.01371063e-01],\n",
       "       [-7.11878063e-01,  9.23243025e-01,  4.04657039e-01,\n",
       "        -7.19990723e-01]])"
      ]
     },
     "execution_count": 16,
     "metadata": {},
     "output_type": "execute_result"
    }
   ],
   "source": [
    "df.to_numpy()"
   ]
  },
  {
   "cell_type": "markdown",
   "id": "3782483a",
   "metadata": {},
   "source": [
    "For df2, the DataFrame with multiple dtypes, DataFrame.to_numpy() is relatively expensive."
   ]
  },
  {
   "cell_type": "code",
   "execution_count": 17,
   "id": "b16d1c76",
   "metadata": {},
   "outputs": [
    {
     "data": {
      "text/plain": [
       "array([[1.0, Timestamp('2013-01-02 00:00:00'), 1.0, 3, 'test', 'foo'],\n",
       "       [1.0, Timestamp('2013-01-02 00:00:00'), 1.0, 3, 'train', 'foo'],\n",
       "       [1.0, Timestamp('2013-01-02 00:00:00'), 1.0, 3, 'test', 'foo'],\n",
       "       [1.0, Timestamp('2013-01-02 00:00:00'), 1.0, 3, 'train', 'foo']],\n",
       "      dtype=object)"
      ]
     },
     "execution_count": 17,
     "metadata": {},
     "output_type": "execute_result"
    }
   ],
   "source": [
    "df2.to_numpy()"
   ]
  },
  {
   "cell_type": "markdown",
   "id": "dde578a9",
   "metadata": {},
   "source": [
    "DataFrame.to_numpy() does not include the index or column labels in the output."
   ]
  },
  {
   "cell_type": "markdown",
   "id": "771f0323",
   "metadata": {},
   "source": [
    "### describe() 显示数据的快速统计摘要："
   ]
  },
  {
   "cell_type": "code",
   "execution_count": 18,
   "id": "2f603a1d",
   "metadata": {},
   "outputs": [
    {
     "data": {
      "text/html": [
       "<div>\n",
       "<style scoped>\n",
       "    .dataframe tbody tr th:only-of-type {\n",
       "        vertical-align: middle;\n",
       "    }\n",
       "\n",
       "    .dataframe tbody tr th {\n",
       "        vertical-align: top;\n",
       "    }\n",
       "\n",
       "    .dataframe thead th {\n",
       "        text-align: right;\n",
       "    }\n",
       "</style>\n",
       "<table border=\"1\" class=\"dataframe\">\n",
       "  <thead>\n",
       "    <tr style=\"text-align: right;\">\n",
       "      <th></th>\n",
       "      <th>A</th>\n",
       "      <th>B</th>\n",
       "      <th>C</th>\n",
       "      <th>D</th>\n",
       "    </tr>\n",
       "  </thead>\n",
       "  <tbody>\n",
       "    <tr>\n",
       "      <th>count</th>\n",
       "      <td>8.000000</td>\n",
       "      <td>8.000000</td>\n",
       "      <td>8.000000</td>\n",
       "      <td>8.000000</td>\n",
       "    </tr>\n",
       "    <tr>\n",
       "      <th>mean</th>\n",
       "      <td>0.117399</td>\n",
       "      <td>-0.433873</td>\n",
       "      <td>0.351654</td>\n",
       "      <td>-0.088295</td>\n",
       "    </tr>\n",
       "    <tr>\n",
       "      <th>std</th>\n",
       "      <td>1.150660</td>\n",
       "      <td>0.873642</td>\n",
       "      <td>0.821741</td>\n",
       "      <td>0.795326</td>\n",
       "    </tr>\n",
       "    <tr>\n",
       "      <th>min</th>\n",
       "      <td>-1.292372</td>\n",
       "      <td>-1.585072</td>\n",
       "      <td>-0.704556</td>\n",
       "      <td>-1.302097</td>\n",
       "    </tr>\n",
       "    <tr>\n",
       "      <th>25%</th>\n",
       "      <td>-0.531671</td>\n",
       "      <td>-1.031456</td>\n",
       "      <td>-0.218515</td>\n",
       "      <td>-0.731793</td>\n",
       "    </tr>\n",
       "    <tr>\n",
       "      <th>50%</th>\n",
       "      <td>-0.195246</td>\n",
       "      <td>-0.291678</td>\n",
       "      <td>0.423408</td>\n",
       "      <td>-0.061117</td>\n",
       "    </tr>\n",
       "    <tr>\n",
       "      <th>75%</th>\n",
       "      <td>0.515404</td>\n",
       "      <td>-0.014510</td>\n",
       "      <td>0.657899</td>\n",
       "      <td>0.615007</td>\n",
       "    </tr>\n",
       "    <tr>\n",
       "      <th>max</th>\n",
       "      <td>2.153064</td>\n",
       "      <td>0.923243</td>\n",
       "      <td>1.638049</td>\n",
       "      <td>0.901371</td>\n",
       "    </tr>\n",
       "  </tbody>\n",
       "</table>\n",
       "</div>"
      ],
      "text/plain": [
       "              A         B         C         D\n",
       "count  8.000000  8.000000  8.000000  8.000000\n",
       "mean   0.117399 -0.433873  0.351654 -0.088295\n",
       "std    1.150660  0.873642  0.821741  0.795326\n",
       "min   -1.292372 -1.585072 -0.704556 -1.302097\n",
       "25%   -0.531671 -1.031456 -0.218515 -0.731793\n",
       "50%   -0.195246 -0.291678  0.423408 -0.061117\n",
       "75%    0.515404 -0.014510  0.657899  0.615007\n",
       "max    2.153064  0.923243  1.638049  0.901371"
      ]
     },
     "execution_count": 18,
     "metadata": {},
     "output_type": "execute_result"
    }
   ],
   "source": [
    "df.describe()"
   ]
  },
  {
   "cell_type": "markdown",
   "id": "451c806e",
   "metadata": {},
   "source": [
    "### 转置"
   ]
  },
  {
   "cell_type": "code",
   "execution_count": 19,
   "id": "dc6b0556",
   "metadata": {},
   "outputs": [
    {
     "data": {
      "text/html": [
       "<div>\n",
       "<style scoped>\n",
       "    .dataframe tbody tr th:only-of-type {\n",
       "        vertical-align: middle;\n",
       "    }\n",
       "\n",
       "    .dataframe tbody tr th {\n",
       "        vertical-align: top;\n",
       "    }\n",
       "\n",
       "    .dataframe thead th {\n",
       "        text-align: right;\n",
       "    }\n",
       "</style>\n",
       "<table border=\"1\" class=\"dataframe\">\n",
       "  <thead>\n",
       "    <tr style=\"text-align: right;\">\n",
       "      <th></th>\n",
       "      <th>2001-12-30</th>\n",
       "      <th>2001-12-31</th>\n",
       "      <th>2002-01-01</th>\n",
       "      <th>2002-01-02</th>\n",
       "      <th>2002-01-03</th>\n",
       "      <th>2002-01-04</th>\n",
       "      <th>2002-01-05</th>\n",
       "      <th>2002-01-06</th>\n",
       "    </tr>\n",
       "  </thead>\n",
       "  <tbody>\n",
       "    <tr>\n",
       "      <th>A</th>\n",
       "      <td>1.447905</td>\n",
       "      <td>2.153064</td>\n",
       "      <td>-0.449006</td>\n",
       "      <td>-1.292372</td>\n",
       "      <td>-0.471602</td>\n",
       "      <td>0.058514</td>\n",
       "      <td>0.204571</td>\n",
       "      <td>-0.711878</td>\n",
       "    </tr>\n",
       "    <tr>\n",
       "      <th>B</th>\n",
       "      <td>-1.585072</td>\n",
       "      <td>-0.125871</td>\n",
       "      <td>0.319571</td>\n",
       "      <td>-0.206607</td>\n",
       "      <td>-0.376749</td>\n",
       "      <td>-1.566337</td>\n",
       "      <td>-0.853162</td>\n",
       "      <td>0.923243</td>\n",
       "    </tr>\n",
       "    <tr>\n",
       "      <th>C</th>\n",
       "      <td>-0.596625</td>\n",
       "      <td>1.267238</td>\n",
       "      <td>-0.092478</td>\n",
       "      <td>0.454786</td>\n",
       "      <td>0.442159</td>\n",
       "      <td>-0.704556</td>\n",
       "      <td>1.638049</td>\n",
       "      <td>0.404657</td>\n",
       "    </tr>\n",
       "    <tr>\n",
       "      <th>D</th>\n",
       "      <td>-0.120175</td>\n",
       "      <td>-1.302097</td>\n",
       "      <td>0.578120</td>\n",
       "      <td>0.725670</td>\n",
       "      <td>-0.767200</td>\n",
       "      <td>-0.002059</td>\n",
       "      <td>0.901371</td>\n",
       "      <td>-0.719991</td>\n",
       "    </tr>\n",
       "  </tbody>\n",
       "</table>\n",
       "</div>"
      ],
      "text/plain": [
       "   2001-12-30  2001-12-31  2002-01-01  2002-01-02  2002-01-03  2002-01-04  \\\n",
       "A    1.447905    2.153064   -0.449006   -1.292372   -0.471602    0.058514   \n",
       "B   -1.585072   -0.125871    0.319571   -0.206607   -0.376749   -1.566337   \n",
       "C   -0.596625    1.267238   -0.092478    0.454786    0.442159   -0.704556   \n",
       "D   -0.120175   -1.302097    0.578120    0.725670   -0.767200   -0.002059   \n",
       "\n",
       "   2002-01-05  2002-01-06  \n",
       "A    0.204571   -0.711878  \n",
       "B   -0.853162    0.923243  \n",
       "C    1.638049    0.404657  \n",
       "D    0.901371   -0.719991  "
      ]
     },
     "execution_count": 19,
     "metadata": {},
     "output_type": "execute_result"
    }
   ],
   "source": [
    "df.T"
   ]
  },
  {
   "cell_type": "markdown",
   "id": "996d6708",
   "metadata": {},
   "source": [
    "### 按轴排序"
   ]
  },
  {
   "cell_type": "code",
   "execution_count": 20,
   "id": "b1c60be0",
   "metadata": {},
   "outputs": [
    {
     "data": {
      "text/html": [
       "<div>\n",
       "<style scoped>\n",
       "    .dataframe tbody tr th:only-of-type {\n",
       "        vertical-align: middle;\n",
       "    }\n",
       "\n",
       "    .dataframe tbody tr th {\n",
       "        vertical-align: top;\n",
       "    }\n",
       "\n",
       "    .dataframe thead th {\n",
       "        text-align: right;\n",
       "    }\n",
       "</style>\n",
       "<table border=\"1\" class=\"dataframe\">\n",
       "  <thead>\n",
       "    <tr style=\"text-align: right;\">\n",
       "      <th></th>\n",
       "      <th>D</th>\n",
       "      <th>C</th>\n",
       "      <th>B</th>\n",
       "      <th>A</th>\n",
       "    </tr>\n",
       "  </thead>\n",
       "  <tbody>\n",
       "    <tr>\n",
       "      <th>2001-12-30</th>\n",
       "      <td>-0.120175</td>\n",
       "      <td>-0.596625</td>\n",
       "      <td>-1.585072</td>\n",
       "      <td>1.447905</td>\n",
       "    </tr>\n",
       "    <tr>\n",
       "      <th>2001-12-31</th>\n",
       "      <td>-1.302097</td>\n",
       "      <td>1.267238</td>\n",
       "      <td>-0.125871</td>\n",
       "      <td>2.153064</td>\n",
       "    </tr>\n",
       "    <tr>\n",
       "      <th>2002-01-01</th>\n",
       "      <td>0.578120</td>\n",
       "      <td>-0.092478</td>\n",
       "      <td>0.319571</td>\n",
       "      <td>-0.449006</td>\n",
       "    </tr>\n",
       "    <tr>\n",
       "      <th>2002-01-02</th>\n",
       "      <td>0.725670</td>\n",
       "      <td>0.454786</td>\n",
       "      <td>-0.206607</td>\n",
       "      <td>-1.292372</td>\n",
       "    </tr>\n",
       "    <tr>\n",
       "      <th>2002-01-03</th>\n",
       "      <td>-0.767200</td>\n",
       "      <td>0.442159</td>\n",
       "      <td>-0.376749</td>\n",
       "      <td>-0.471602</td>\n",
       "    </tr>\n",
       "    <tr>\n",
       "      <th>2002-01-04</th>\n",
       "      <td>-0.002059</td>\n",
       "      <td>-0.704556</td>\n",
       "      <td>-1.566337</td>\n",
       "      <td>0.058514</td>\n",
       "    </tr>\n",
       "    <tr>\n",
       "      <th>2002-01-05</th>\n",
       "      <td>0.901371</td>\n",
       "      <td>1.638049</td>\n",
       "      <td>-0.853162</td>\n",
       "      <td>0.204571</td>\n",
       "    </tr>\n",
       "    <tr>\n",
       "      <th>2002-01-06</th>\n",
       "      <td>-0.719991</td>\n",
       "      <td>0.404657</td>\n",
       "      <td>0.923243</td>\n",
       "      <td>-0.711878</td>\n",
       "    </tr>\n",
       "  </tbody>\n",
       "</table>\n",
       "</div>"
      ],
      "text/plain": [
       "                   D         C         B         A\n",
       "2001-12-30 -0.120175 -0.596625 -1.585072  1.447905\n",
       "2001-12-31 -1.302097  1.267238 -0.125871  2.153064\n",
       "2002-01-01  0.578120 -0.092478  0.319571 -0.449006\n",
       "2002-01-02  0.725670  0.454786 -0.206607 -1.292372\n",
       "2002-01-03 -0.767200  0.442159 -0.376749 -0.471602\n",
       "2002-01-04 -0.002059 -0.704556 -1.566337  0.058514\n",
       "2002-01-05  0.901371  1.638049 -0.853162  0.204571\n",
       "2002-01-06 -0.719991  0.404657  0.923243 -0.711878"
      ]
     },
     "execution_count": 20,
     "metadata": {},
     "output_type": "execute_result"
    }
   ],
   "source": [
    "df.sort_index(axis=1, ascending=False)"
   ]
  },
  {
   "cell_type": "markdown",
   "id": "cbf11414",
   "metadata": {},
   "source": [
    "### 按值排序"
   ]
  },
  {
   "cell_type": "code",
   "execution_count": 21,
   "id": "fdd819cc",
   "metadata": {},
   "outputs": [
    {
     "data": {
      "text/html": [
       "<div>\n",
       "<style scoped>\n",
       "    .dataframe tbody tr th:only-of-type {\n",
       "        vertical-align: middle;\n",
       "    }\n",
       "\n",
       "    .dataframe tbody tr th {\n",
       "        vertical-align: top;\n",
       "    }\n",
       "\n",
       "    .dataframe thead th {\n",
       "        text-align: right;\n",
       "    }\n",
       "</style>\n",
       "<table border=\"1\" class=\"dataframe\">\n",
       "  <thead>\n",
       "    <tr style=\"text-align: right;\">\n",
       "      <th></th>\n",
       "      <th>A</th>\n",
       "      <th>B</th>\n",
       "      <th>C</th>\n",
       "      <th>D</th>\n",
       "    </tr>\n",
       "  </thead>\n",
       "  <tbody>\n",
       "    <tr>\n",
       "      <th>2001-12-30</th>\n",
       "      <td>1.447905</td>\n",
       "      <td>-1.585072</td>\n",
       "      <td>-0.596625</td>\n",
       "      <td>-0.120175</td>\n",
       "    </tr>\n",
       "    <tr>\n",
       "      <th>2002-01-04</th>\n",
       "      <td>0.058514</td>\n",
       "      <td>-1.566337</td>\n",
       "      <td>-0.704556</td>\n",
       "      <td>-0.002059</td>\n",
       "    </tr>\n",
       "    <tr>\n",
       "      <th>2002-01-05</th>\n",
       "      <td>0.204571</td>\n",
       "      <td>-0.853162</td>\n",
       "      <td>1.638049</td>\n",
       "      <td>0.901371</td>\n",
       "    </tr>\n",
       "    <tr>\n",
       "      <th>2002-01-03</th>\n",
       "      <td>-0.471602</td>\n",
       "      <td>-0.376749</td>\n",
       "      <td>0.442159</td>\n",
       "      <td>-0.767200</td>\n",
       "    </tr>\n",
       "    <tr>\n",
       "      <th>2002-01-02</th>\n",
       "      <td>-1.292372</td>\n",
       "      <td>-0.206607</td>\n",
       "      <td>0.454786</td>\n",
       "      <td>0.725670</td>\n",
       "    </tr>\n",
       "    <tr>\n",
       "      <th>2001-12-31</th>\n",
       "      <td>2.153064</td>\n",
       "      <td>-0.125871</td>\n",
       "      <td>1.267238</td>\n",
       "      <td>-1.302097</td>\n",
       "    </tr>\n",
       "    <tr>\n",
       "      <th>2002-01-01</th>\n",
       "      <td>-0.449006</td>\n",
       "      <td>0.319571</td>\n",
       "      <td>-0.092478</td>\n",
       "      <td>0.578120</td>\n",
       "    </tr>\n",
       "    <tr>\n",
       "      <th>2002-01-06</th>\n",
       "      <td>-0.711878</td>\n",
       "      <td>0.923243</td>\n",
       "      <td>0.404657</td>\n",
       "      <td>-0.719991</td>\n",
       "    </tr>\n",
       "  </tbody>\n",
       "</table>\n",
       "</div>"
      ],
      "text/plain": [
       "                   A         B         C         D\n",
       "2001-12-30  1.447905 -1.585072 -0.596625 -0.120175\n",
       "2002-01-04  0.058514 -1.566337 -0.704556 -0.002059\n",
       "2002-01-05  0.204571 -0.853162  1.638049  0.901371\n",
       "2002-01-03 -0.471602 -0.376749  0.442159 -0.767200\n",
       "2002-01-02 -1.292372 -0.206607  0.454786  0.725670\n",
       "2001-12-31  2.153064 -0.125871  1.267238 -1.302097\n",
       "2002-01-01 -0.449006  0.319571 -0.092478  0.578120\n",
       "2002-01-06 -0.711878  0.923243  0.404657 -0.719991"
      ]
     },
     "execution_count": 21,
     "metadata": {},
     "output_type": "execute_result"
    }
   ],
   "source": [
    "df.sort_values(by=\"B\")"
   ]
  },
  {
   "cell_type": "markdown",
   "id": "741acd1b",
   "metadata": {},
   "source": [
    "## 获取\n",
    "### 选择单列，产生a Series,相当于df.A"
   ]
  },
  {
   "cell_type": "code",
   "execution_count": 22,
   "id": "36cc1e66",
   "metadata": {},
   "outputs": [
    {
     "data": {
      "text/plain": [
       "2001-12-30    1.447905\n",
       "2001-12-31    2.153064\n",
       "2002-01-01   -0.449006\n",
       "2002-01-02   -1.292372\n",
       "2002-01-03   -0.471602\n",
       "2002-01-04    0.058514\n",
       "2002-01-05    0.204571\n",
       "2002-01-06   -0.711878\n",
       "Freq: D, Name: A, dtype: float64"
      ]
     },
     "execution_count": 22,
     "metadata": {},
     "output_type": "execute_result"
    }
   ],
   "source": [
    "df[\"A\"]"
   ]
  },
  {
   "cell_type": "markdown",
   "id": "0929b4bd",
   "metadata": {},
   "source": [
    "### 选择via[],进行切片"
   ]
  },
  {
   "cell_type": "code",
   "execution_count": 23,
   "id": "e3684ee1",
   "metadata": {},
   "outputs": [
    {
     "data": {
      "text/html": [
       "<div>\n",
       "<style scoped>\n",
       "    .dataframe tbody tr th:only-of-type {\n",
       "        vertical-align: middle;\n",
       "    }\n",
       "\n",
       "    .dataframe tbody tr th {\n",
       "        vertical-align: top;\n",
       "    }\n",
       "\n",
       "    .dataframe thead th {\n",
       "        text-align: right;\n",
       "    }\n",
       "</style>\n",
       "<table border=\"1\" class=\"dataframe\">\n",
       "  <thead>\n",
       "    <tr style=\"text-align: right;\">\n",
       "      <th></th>\n",
       "      <th>A</th>\n",
       "      <th>B</th>\n",
       "      <th>C</th>\n",
       "      <th>D</th>\n",
       "    </tr>\n",
       "  </thead>\n",
       "  <tbody>\n",
       "    <tr>\n",
       "      <th>2001-12-30</th>\n",
       "      <td>1.447905</td>\n",
       "      <td>-1.585072</td>\n",
       "      <td>-0.596625</td>\n",
       "      <td>-0.120175</td>\n",
       "    </tr>\n",
       "    <tr>\n",
       "      <th>2001-12-31</th>\n",
       "      <td>2.153064</td>\n",
       "      <td>-0.125871</td>\n",
       "      <td>1.267238</td>\n",
       "      <td>-1.302097</td>\n",
       "    </tr>\n",
       "    <tr>\n",
       "      <th>2002-01-01</th>\n",
       "      <td>-0.449006</td>\n",
       "      <td>0.319571</td>\n",
       "      <td>-0.092478</td>\n",
       "      <td>0.578120</td>\n",
       "    </tr>\n",
       "  </tbody>\n",
       "</table>\n",
       "</div>"
      ],
      "text/plain": [
       "                   A         B         C         D\n",
       "2001-12-30  1.447905 -1.585072 -0.596625 -0.120175\n",
       "2001-12-31  2.153064 -0.125871  1.267238 -1.302097\n",
       "2002-01-01 -0.449006  0.319571 -0.092478  0.578120"
      ]
     },
     "execution_count": 23,
     "metadata": {},
     "output_type": "execute_result"
    }
   ],
   "source": [
    "df[0:3]"
   ]
  },
  {
   "cell_type": "code",
   "execution_count": 24,
   "id": "29f92049",
   "metadata": {},
   "outputs": [
    {
     "data": {
      "text/html": [
       "<div>\n",
       "<style scoped>\n",
       "    .dataframe tbody tr th:only-of-type {\n",
       "        vertical-align: middle;\n",
       "    }\n",
       "\n",
       "    .dataframe tbody tr th {\n",
       "        vertical-align: top;\n",
       "    }\n",
       "\n",
       "    .dataframe thead th {\n",
       "        text-align: right;\n",
       "    }\n",
       "</style>\n",
       "<table border=\"1\" class=\"dataframe\">\n",
       "  <thead>\n",
       "    <tr style=\"text-align: right;\">\n",
       "      <th></th>\n",
       "      <th>A</th>\n",
       "      <th>B</th>\n",
       "      <th>C</th>\n",
       "      <th>D</th>\n",
       "    </tr>\n",
       "  </thead>\n",
       "  <tbody>\n",
       "    <tr>\n",
       "      <th>2001-12-30</th>\n",
       "      <td>1.447905</td>\n",
       "      <td>-1.585072</td>\n",
       "      <td>-0.596625</td>\n",
       "      <td>-0.120175</td>\n",
       "    </tr>\n",
       "    <tr>\n",
       "      <th>2001-12-31</th>\n",
       "      <td>2.153064</td>\n",
       "      <td>-0.125871</td>\n",
       "      <td>1.267238</td>\n",
       "      <td>-1.302097</td>\n",
       "    </tr>\n",
       "    <tr>\n",
       "      <th>2002-01-01</th>\n",
       "      <td>-0.449006</td>\n",
       "      <td>0.319571</td>\n",
       "      <td>-0.092478</td>\n",
       "      <td>0.578120</td>\n",
       "    </tr>\n",
       "    <tr>\n",
       "      <th>2002-01-02</th>\n",
       "      <td>-1.292372</td>\n",
       "      <td>-0.206607</td>\n",
       "      <td>0.454786</td>\n",
       "      <td>0.725670</td>\n",
       "    </tr>\n",
       "  </tbody>\n",
       "</table>\n",
       "</div>"
      ],
      "text/plain": [
       "                   A         B         C         D\n",
       "2001-12-30  1.447905 -1.585072 -0.596625 -0.120175\n",
       "2001-12-31  2.153064 -0.125871  1.267238 -1.302097\n",
       "2002-01-01 -0.449006  0.319571 -0.092478  0.578120\n",
       "2002-01-02 -1.292372 -0.206607  0.454786  0.725670"
      ]
     },
     "execution_count": 24,
     "metadata": {},
     "output_type": "execute_result"
    }
   ],
   "source": [
    "df[\"20011230\":\"20020102\"]"
   ]
  },
  {
   "cell_type": "markdown",
   "id": "d74af5c4",
   "metadata": {},
   "source": [
    "## 按标签选择"
   ]
  },
  {
   "cell_type": "markdown",
   "id": "27728d68",
   "metadata": {},
   "source": [
    "### 使用标签获取横截面 "
   ]
  },
  {
   "cell_type": "code",
   "execution_count": 25,
   "id": "15cb3e0f",
   "metadata": {},
   "outputs": [
    {
     "data": {
      "text/plain": [
       "A    1.447905\n",
       "B   -1.585072\n",
       "C   -0.596625\n",
       "D   -0.120175\n",
       "Name: 2001-12-30 00:00:00, dtype: float64"
      ]
     },
     "execution_count": 25,
     "metadata": {},
     "output_type": "execute_result"
    }
   ],
   "source": [
    "df.loc[dates[0]]"
   ]
  },
  {
   "cell_type": "markdown",
   "id": "9387b8a0",
   "metadata": {},
   "source": [
    "### 按标签在多轴上选择"
   ]
  },
  {
   "cell_type": "code",
   "execution_count": 26,
   "id": "da725b51",
   "metadata": {},
   "outputs": [
    {
     "data": {
      "text/html": [
       "<div>\n",
       "<style scoped>\n",
       "    .dataframe tbody tr th:only-of-type {\n",
       "        vertical-align: middle;\n",
       "    }\n",
       "\n",
       "    .dataframe tbody tr th {\n",
       "        vertical-align: top;\n",
       "    }\n",
       "\n",
       "    .dataframe thead th {\n",
       "        text-align: right;\n",
       "    }\n",
       "</style>\n",
       "<table border=\"1\" class=\"dataframe\">\n",
       "  <thead>\n",
       "    <tr style=\"text-align: right;\">\n",
       "      <th></th>\n",
       "      <th>A</th>\n",
       "      <th>B</th>\n",
       "    </tr>\n",
       "  </thead>\n",
       "  <tbody>\n",
       "    <tr>\n",
       "      <th>2001-12-30</th>\n",
       "      <td>1.447905</td>\n",
       "      <td>-1.585072</td>\n",
       "    </tr>\n",
       "    <tr>\n",
       "      <th>2001-12-31</th>\n",
       "      <td>2.153064</td>\n",
       "      <td>-0.125871</td>\n",
       "    </tr>\n",
       "    <tr>\n",
       "      <th>2002-01-01</th>\n",
       "      <td>-0.449006</td>\n",
       "      <td>0.319571</td>\n",
       "    </tr>\n",
       "    <tr>\n",
       "      <th>2002-01-02</th>\n",
       "      <td>-1.292372</td>\n",
       "      <td>-0.206607</td>\n",
       "    </tr>\n",
       "    <tr>\n",
       "      <th>2002-01-03</th>\n",
       "      <td>-0.471602</td>\n",
       "      <td>-0.376749</td>\n",
       "    </tr>\n",
       "    <tr>\n",
       "      <th>2002-01-04</th>\n",
       "      <td>0.058514</td>\n",
       "      <td>-1.566337</td>\n",
       "    </tr>\n",
       "    <tr>\n",
       "      <th>2002-01-05</th>\n",
       "      <td>0.204571</td>\n",
       "      <td>-0.853162</td>\n",
       "    </tr>\n",
       "    <tr>\n",
       "      <th>2002-01-06</th>\n",
       "      <td>-0.711878</td>\n",
       "      <td>0.923243</td>\n",
       "    </tr>\n",
       "  </tbody>\n",
       "</table>\n",
       "</div>"
      ],
      "text/plain": [
       "                   A         B\n",
       "2001-12-30  1.447905 -1.585072\n",
       "2001-12-31  2.153064 -0.125871\n",
       "2002-01-01 -0.449006  0.319571\n",
       "2002-01-02 -1.292372 -0.206607\n",
       "2002-01-03 -0.471602 -0.376749\n",
       "2002-01-04  0.058514 -1.566337\n",
       "2002-01-05  0.204571 -0.853162\n",
       "2002-01-06 -0.711878  0.923243"
      ]
     },
     "execution_count": 26,
     "metadata": {},
     "output_type": "execute_result"
    }
   ],
   "source": [
    "df.loc[:,['A','B']]"
   ]
  },
  {
   "cell_type": "markdown",
   "id": "ff98d7df",
   "metadata": {},
   "source": [
    "### 包括两个端点，显示标签切片"
   ]
  },
  {
   "cell_type": "code",
   "execution_count": 27,
   "id": "2f6abc68",
   "metadata": {},
   "outputs": [
    {
     "data": {
      "text/html": [
       "<div>\n",
       "<style scoped>\n",
       "    .dataframe tbody tr th:only-of-type {\n",
       "        vertical-align: middle;\n",
       "    }\n",
       "\n",
       "    .dataframe tbody tr th {\n",
       "        vertical-align: top;\n",
       "    }\n",
       "\n",
       "    .dataframe thead th {\n",
       "        text-align: right;\n",
       "    }\n",
       "</style>\n",
       "<table border=\"1\" class=\"dataframe\">\n",
       "  <thead>\n",
       "    <tr style=\"text-align: right;\">\n",
       "      <th></th>\n",
       "      <th>A</th>\n",
       "      <th>B</th>\n",
       "    </tr>\n",
       "  </thead>\n",
       "  <tbody>\n",
       "    <tr>\n",
       "      <th>2001-12-30</th>\n",
       "      <td>1.447905</td>\n",
       "      <td>-1.585072</td>\n",
       "    </tr>\n",
       "    <tr>\n",
       "      <th>2001-12-31</th>\n",
       "      <td>2.153064</td>\n",
       "      <td>-0.125871</td>\n",
       "    </tr>\n",
       "    <tr>\n",
       "      <th>2002-01-01</th>\n",
       "      <td>-0.449006</td>\n",
       "      <td>0.319571</td>\n",
       "    </tr>\n",
       "    <tr>\n",
       "      <th>2002-01-02</th>\n",
       "      <td>-1.292372</td>\n",
       "      <td>-0.206607</td>\n",
       "    </tr>\n",
       "    <tr>\n",
       "      <th>2002-01-03</th>\n",
       "      <td>-0.471602</td>\n",
       "      <td>-0.376749</td>\n",
       "    </tr>\n",
       "  </tbody>\n",
       "</table>\n",
       "</div>"
      ],
      "text/plain": [
       "                   A         B\n",
       "2001-12-30  1.447905 -1.585072\n",
       "2001-12-31  2.153064 -0.125871\n",
       "2002-01-01 -0.449006  0.319571\n",
       "2002-01-02 -1.292372 -0.206607\n",
       "2002-01-03 -0.471602 -0.376749"
      ]
     },
     "execution_count": 27,
     "metadata": {},
     "output_type": "execute_result"
    }
   ],
   "source": [
    "df.loc['20011230':'20020103',['A','B']]"
   ]
  },
  {
   "cell_type": "markdown",
   "id": "8d7f325b",
   "metadata": {},
   "source": [
    "### Reduction in the dimensions of the returned object:"
   ]
  },
  {
   "cell_type": "code",
   "execution_count": 28,
   "id": "a26faa09",
   "metadata": {},
   "outputs": [
    {
     "data": {
      "text/plain": [
       "A    2.153064\n",
       "B   -0.125871\n",
       "Name: 2001-12-31 00:00:00, dtype: float64"
      ]
     },
     "execution_count": 28,
     "metadata": {},
     "output_type": "execute_result"
    }
   ],
   "source": [
    "df.loc[\"20011231\",['A','B']]"
   ]
  },
  {
   "cell_type": "markdown",
   "id": "5691af16",
   "metadata": {},
   "source": [
    "### 获取标量值"
   ]
  },
  {
   "cell_type": "code",
   "execution_count": 29,
   "id": "da67d2bd",
   "metadata": {},
   "outputs": [
    {
     "data": {
      "text/plain": [
       "1.4479050322455906"
      ]
     },
     "execution_count": 29,
     "metadata": {},
     "output_type": "execute_result"
    }
   ],
   "source": [
    "df.loc[dates[0],'A']"
   ]
  },
  {
   "cell_type": "code",
   "execution_count": 30,
   "id": "f75cb98e",
   "metadata": {},
   "outputs": [
    {
     "data": {
      "text/plain": [
       "1.4479050322455906"
      ]
     },
     "execution_count": 30,
     "metadata": {},
     "output_type": "execute_result"
    }
   ],
   "source": [
    "df.at[dates[0],'A']"
   ]
  },
  {
   "cell_type": "markdown",
   "id": "e3b19ab8",
   "metadata": {},
   "source": [
    "## 按位置选择"
   ]
  },
  {
   "cell_type": "markdown",
   "id": "b9a045c2",
   "metadata": {},
   "source": [
    "### 通过传递的整数的位置选择"
   ]
  },
  {
   "cell_type": "code",
   "execution_count": 31,
   "id": "325ac7b7",
   "metadata": {},
   "outputs": [
    {
     "data": {
      "text/plain": [
       "A   -1.292372\n",
       "B   -0.206607\n",
       "C    0.454786\n",
       "D    0.725670\n",
       "Name: 2002-01-02 00:00:00, dtype: float64"
      ]
     },
     "execution_count": 31,
     "metadata": {},
     "output_type": "execute_result"
    }
   ],
   "source": [
    "df.iloc[3]"
   ]
  },
  {
   "cell_type": "markdown",
   "id": "c04758f3",
   "metadata": {},
   "source": [
    "## 通过整数切片"
   ]
  },
  {
   "cell_type": "code",
   "execution_count": 32,
   "id": "8ecb7702",
   "metadata": {},
   "outputs": [
    {
     "data": {
      "text/html": [
       "<div>\n",
       "<style scoped>\n",
       "    .dataframe tbody tr th:only-of-type {\n",
       "        vertical-align: middle;\n",
       "    }\n",
       "\n",
       "    .dataframe tbody tr th {\n",
       "        vertical-align: top;\n",
       "    }\n",
       "\n",
       "    .dataframe thead th {\n",
       "        text-align: right;\n",
       "    }\n",
       "</style>\n",
       "<table border=\"1\" class=\"dataframe\">\n",
       "  <thead>\n",
       "    <tr style=\"text-align: right;\">\n",
       "      <th></th>\n",
       "      <th>A</th>\n",
       "      <th>B</th>\n",
       "    </tr>\n",
       "  </thead>\n",
       "  <tbody>\n",
       "    <tr>\n",
       "      <th>2001-12-31</th>\n",
       "      <td>2.153064</td>\n",
       "      <td>-0.125871</td>\n",
       "    </tr>\n",
       "    <tr>\n",
       "      <th>2002-01-01</th>\n",
       "      <td>-0.449006</td>\n",
       "      <td>0.319571</td>\n",
       "    </tr>\n",
       "    <tr>\n",
       "      <th>2002-01-02</th>\n",
       "      <td>-1.292372</td>\n",
       "      <td>-0.206607</td>\n",
       "    </tr>\n",
       "  </tbody>\n",
       "</table>\n",
       "</div>"
      ],
      "text/plain": [
       "                   A         B\n",
       "2001-12-31  2.153064 -0.125871\n",
       "2002-01-01 -0.449006  0.319571\n",
       "2002-01-02 -1.292372 -0.206607"
      ]
     },
     "execution_count": 32,
     "metadata": {},
     "output_type": "execute_result"
    }
   ],
   "source": [
    "df.iloc[1:4,0:2]"
   ]
  },
  {
   "cell_type": "markdown",
   "id": "1b6c67d1",
   "metadata": {},
   "source": [
    "### 通过列表打印输出，类似于 NumPy/Python 风格："
   ]
  },
  {
   "cell_type": "code",
   "execution_count": 33,
   "id": "71e3727d",
   "metadata": {},
   "outputs": [
    {
     "data": {
      "text/html": [
       "<div>\n",
       "<style scoped>\n",
       "    .dataframe tbody tr th:only-of-type {\n",
       "        vertical-align: middle;\n",
       "    }\n",
       "\n",
       "    .dataframe tbody tr th {\n",
       "        vertical-align: top;\n",
       "    }\n",
       "\n",
       "    .dataframe thead th {\n",
       "        text-align: right;\n",
       "    }\n",
       "</style>\n",
       "<table border=\"1\" class=\"dataframe\">\n",
       "  <thead>\n",
       "    <tr style=\"text-align: right;\">\n",
       "      <th></th>\n",
       "      <th>A</th>\n",
       "      <th>C</th>\n",
       "    </tr>\n",
       "  </thead>\n",
       "  <tbody>\n",
       "    <tr>\n",
       "      <th>2001-12-31</th>\n",
       "      <td>2.153064</td>\n",
       "      <td>1.267238</td>\n",
       "    </tr>\n",
       "    <tr>\n",
       "      <th>2002-01-01</th>\n",
       "      <td>-0.449006</td>\n",
       "      <td>-0.092478</td>\n",
       "    </tr>\n",
       "    <tr>\n",
       "      <th>2002-01-03</th>\n",
       "      <td>-0.471602</td>\n",
       "      <td>0.442159</td>\n",
       "    </tr>\n",
       "  </tbody>\n",
       "</table>\n",
       "</div>"
      ],
      "text/plain": [
       "                   A         C\n",
       "2001-12-31  2.153064  1.267238\n",
       "2002-01-01 -0.449006 -0.092478\n",
       "2002-01-03 -0.471602  0.442159"
      ]
     },
     "execution_count": 33,
     "metadata": {},
     "output_type": "execute_result"
    }
   ],
   "source": [
    "df.iloc[[1,2,4],[0,2]]"
   ]
  },
  {
   "cell_type": "markdown",
   "id": "b27a4131",
   "metadata": {},
   "source": [
    "### 显式切片"
   ]
  },
  {
   "cell_type": "code",
   "execution_count": 34,
   "id": "edc540b2",
   "metadata": {},
   "outputs": [
    {
     "data": {
      "text/html": [
       "<div>\n",
       "<style scoped>\n",
       "    .dataframe tbody tr th:only-of-type {\n",
       "        vertical-align: middle;\n",
       "    }\n",
       "\n",
       "    .dataframe tbody tr th {\n",
       "        vertical-align: top;\n",
       "    }\n",
       "\n",
       "    .dataframe thead th {\n",
       "        text-align: right;\n",
       "    }\n",
       "</style>\n",
       "<table border=\"1\" class=\"dataframe\">\n",
       "  <thead>\n",
       "    <tr style=\"text-align: right;\">\n",
       "      <th></th>\n",
       "      <th>B</th>\n",
       "      <th>C</th>\n",
       "    </tr>\n",
       "  </thead>\n",
       "  <tbody>\n",
       "    <tr>\n",
       "      <th>2001-12-30</th>\n",
       "      <td>-1.585072</td>\n",
       "      <td>-0.596625</td>\n",
       "    </tr>\n",
       "    <tr>\n",
       "      <th>2001-12-31</th>\n",
       "      <td>-0.125871</td>\n",
       "      <td>1.267238</td>\n",
       "    </tr>\n",
       "    <tr>\n",
       "      <th>2002-01-01</th>\n",
       "      <td>0.319571</td>\n",
       "      <td>-0.092478</td>\n",
       "    </tr>\n",
       "    <tr>\n",
       "      <th>2002-01-02</th>\n",
       "      <td>-0.206607</td>\n",
       "      <td>0.454786</td>\n",
       "    </tr>\n",
       "    <tr>\n",
       "      <th>2002-01-03</th>\n",
       "      <td>-0.376749</td>\n",
       "      <td>0.442159</td>\n",
       "    </tr>\n",
       "    <tr>\n",
       "      <th>2002-01-04</th>\n",
       "      <td>-1.566337</td>\n",
       "      <td>-0.704556</td>\n",
       "    </tr>\n",
       "    <tr>\n",
       "      <th>2002-01-05</th>\n",
       "      <td>-0.853162</td>\n",
       "      <td>1.638049</td>\n",
       "    </tr>\n",
       "    <tr>\n",
       "      <th>2002-01-06</th>\n",
       "      <td>0.923243</td>\n",
       "      <td>0.404657</td>\n",
       "    </tr>\n",
       "  </tbody>\n",
       "</table>\n",
       "</div>"
      ],
      "text/plain": [
       "                   B         C\n",
       "2001-12-30 -1.585072 -0.596625\n",
       "2001-12-31 -0.125871  1.267238\n",
       "2002-01-01  0.319571 -0.092478\n",
       "2002-01-02 -0.206607  0.454786\n",
       "2002-01-03 -0.376749  0.442159\n",
       "2002-01-04 -1.566337 -0.704556\n",
       "2002-01-05 -0.853162  1.638049\n",
       "2002-01-06  0.923243  0.404657"
      ]
     },
     "execution_count": 34,
     "metadata": {},
     "output_type": "execute_result"
    }
   ],
   "source": [
    "df.iloc[:,1:3]"
   ]
  },
  {
   "cell_type": "code",
   "execution_count": 35,
   "id": "bbe61af5",
   "metadata": {},
   "outputs": [
    {
     "data": {
      "text/html": [
       "<div>\n",
       "<style scoped>\n",
       "    .dataframe tbody tr th:only-of-type {\n",
       "        vertical-align: middle;\n",
       "    }\n",
       "\n",
       "    .dataframe tbody tr th {\n",
       "        vertical-align: top;\n",
       "    }\n",
       "\n",
       "    .dataframe thead th {\n",
       "        text-align: right;\n",
       "    }\n",
       "</style>\n",
       "<table border=\"1\" class=\"dataframe\">\n",
       "  <thead>\n",
       "    <tr style=\"text-align: right;\">\n",
       "      <th></th>\n",
       "      <th>A</th>\n",
       "      <th>B</th>\n",
       "      <th>C</th>\n",
       "      <th>D</th>\n",
       "    </tr>\n",
       "  </thead>\n",
       "  <tbody>\n",
       "    <tr>\n",
       "      <th>2002-01-01</th>\n",
       "      <td>-0.449006</td>\n",
       "      <td>0.319571</td>\n",
       "      <td>-0.092478</td>\n",
       "      <td>0.57812</td>\n",
       "    </tr>\n",
       "    <tr>\n",
       "      <th>2002-01-02</th>\n",
       "      <td>-1.292372</td>\n",
       "      <td>-0.206607</td>\n",
       "      <td>0.454786</td>\n",
       "      <td>0.72567</td>\n",
       "    </tr>\n",
       "  </tbody>\n",
       "</table>\n",
       "</div>"
      ],
      "text/plain": [
       "                   A         B         C        D\n",
       "2002-01-01 -0.449006  0.319571 -0.092478  0.57812\n",
       "2002-01-02 -1.292372 -0.206607  0.454786  0.72567"
      ]
     },
     "execution_count": 35,
     "metadata": {},
     "output_type": "execute_result"
    }
   ],
   "source": [
    "df.iloc[2:4,:]"
   ]
  },
  {
   "cell_type": "markdown",
   "id": "f4d540aa",
   "metadata": {},
   "source": [
    "### 快速访问标量"
   ]
  },
  {
   "cell_type": "code",
   "execution_count": 36,
   "id": "527e2996",
   "metadata": {},
   "outputs": [
    {
     "data": {
      "text/plain": [
       "0.5781195148754029"
      ]
     },
     "execution_count": 36,
     "metadata": {},
     "output_type": "execute_result"
    }
   ],
   "source": [
    "df.iloc[2,3]"
   ]
  },
  {
   "cell_type": "code",
   "execution_count": 37,
   "id": "c24e4768",
   "metadata": {},
   "outputs": [
    {
     "data": {
      "text/plain": [
       "0.5781195148754029"
      ]
     },
     "execution_count": 37,
     "metadata": {},
     "output_type": "execute_result"
    }
   ],
   "source": [
    "df.iat[2,3]"
   ]
  },
  {
   "cell_type": "markdown",
   "id": "7cd49952",
   "metadata": {},
   "source": [
    "## 布尔索引"
   ]
  },
  {
   "cell_type": "code",
   "execution_count": 38,
   "id": "30ddc6f2",
   "metadata": {},
   "outputs": [
    {
     "data": {
      "text/html": [
       "<div>\n",
       "<style scoped>\n",
       "    .dataframe tbody tr th:only-of-type {\n",
       "        vertical-align: middle;\n",
       "    }\n",
       "\n",
       "    .dataframe tbody tr th {\n",
       "        vertical-align: top;\n",
       "    }\n",
       "\n",
       "    .dataframe thead th {\n",
       "        text-align: right;\n",
       "    }\n",
       "</style>\n",
       "<table border=\"1\" class=\"dataframe\">\n",
       "  <thead>\n",
       "    <tr style=\"text-align: right;\">\n",
       "      <th></th>\n",
       "      <th>A</th>\n",
       "      <th>B</th>\n",
       "      <th>C</th>\n",
       "      <th>D</th>\n",
       "    </tr>\n",
       "  </thead>\n",
       "  <tbody>\n",
       "    <tr>\n",
       "      <th>2001-12-30</th>\n",
       "      <td>1.447905</td>\n",
       "      <td>-1.585072</td>\n",
       "      <td>-0.596625</td>\n",
       "      <td>-0.120175</td>\n",
       "    </tr>\n",
       "    <tr>\n",
       "      <th>2001-12-31</th>\n",
       "      <td>2.153064</td>\n",
       "      <td>-0.125871</td>\n",
       "      <td>1.267238</td>\n",
       "      <td>-1.302097</td>\n",
       "    </tr>\n",
       "    <tr>\n",
       "      <th>2002-01-01</th>\n",
       "      <td>-0.449006</td>\n",
       "      <td>0.319571</td>\n",
       "      <td>-0.092478</td>\n",
       "      <td>0.578120</td>\n",
       "    </tr>\n",
       "    <tr>\n",
       "      <th>2002-01-02</th>\n",
       "      <td>-1.292372</td>\n",
       "      <td>-0.206607</td>\n",
       "      <td>0.454786</td>\n",
       "      <td>0.725670</td>\n",
       "    </tr>\n",
       "    <tr>\n",
       "      <th>2002-01-03</th>\n",
       "      <td>-0.471602</td>\n",
       "      <td>-0.376749</td>\n",
       "      <td>0.442159</td>\n",
       "      <td>-0.767200</td>\n",
       "    </tr>\n",
       "    <tr>\n",
       "      <th>2002-01-04</th>\n",
       "      <td>0.058514</td>\n",
       "      <td>-1.566337</td>\n",
       "      <td>-0.704556</td>\n",
       "      <td>-0.002059</td>\n",
       "    </tr>\n",
       "    <tr>\n",
       "      <th>2002-01-05</th>\n",
       "      <td>0.204571</td>\n",
       "      <td>-0.853162</td>\n",
       "      <td>1.638049</td>\n",
       "      <td>0.901371</td>\n",
       "    </tr>\n",
       "    <tr>\n",
       "      <th>2002-01-06</th>\n",
       "      <td>-0.711878</td>\n",
       "      <td>0.923243</td>\n",
       "      <td>0.404657</td>\n",
       "      <td>-0.719991</td>\n",
       "    </tr>\n",
       "  </tbody>\n",
       "</table>\n",
       "</div>"
      ],
      "text/plain": [
       "                   A         B         C         D\n",
       "2001-12-30  1.447905 -1.585072 -0.596625 -0.120175\n",
       "2001-12-31  2.153064 -0.125871  1.267238 -1.302097\n",
       "2002-01-01 -0.449006  0.319571 -0.092478  0.578120\n",
       "2002-01-02 -1.292372 -0.206607  0.454786  0.725670\n",
       "2002-01-03 -0.471602 -0.376749  0.442159 -0.767200\n",
       "2002-01-04  0.058514 -1.566337 -0.704556 -0.002059\n",
       "2002-01-05  0.204571 -0.853162  1.638049  0.901371\n",
       "2002-01-06 -0.711878  0.923243  0.404657 -0.719991"
      ]
     },
     "execution_count": 38,
     "metadata": {},
     "output_type": "execute_result"
    }
   ],
   "source": [
    "df"
   ]
  },
  {
   "cell_type": "markdown",
   "id": "a6d855fa",
   "metadata": {},
   "source": [
    "### 使用单个列的值来选择数据"
   ]
  },
  {
   "cell_type": "code",
   "execution_count": 39,
   "id": "78fac138",
   "metadata": {},
   "outputs": [
    {
     "data": {
      "text/html": [
       "<div>\n",
       "<style scoped>\n",
       "    .dataframe tbody tr th:only-of-type {\n",
       "        vertical-align: middle;\n",
       "    }\n",
       "\n",
       "    .dataframe tbody tr th {\n",
       "        vertical-align: top;\n",
       "    }\n",
       "\n",
       "    .dataframe thead th {\n",
       "        text-align: right;\n",
       "    }\n",
       "</style>\n",
       "<table border=\"1\" class=\"dataframe\">\n",
       "  <thead>\n",
       "    <tr style=\"text-align: right;\">\n",
       "      <th></th>\n",
       "      <th>A</th>\n",
       "      <th>B</th>\n",
       "      <th>C</th>\n",
       "      <th>D</th>\n",
       "    </tr>\n",
       "  </thead>\n",
       "  <tbody>\n",
       "    <tr>\n",
       "      <th>2001-12-30</th>\n",
       "      <td>1.447905</td>\n",
       "      <td>-1.585072</td>\n",
       "      <td>-0.596625</td>\n",
       "      <td>-0.120175</td>\n",
       "    </tr>\n",
       "    <tr>\n",
       "      <th>2001-12-31</th>\n",
       "      <td>2.153064</td>\n",
       "      <td>-0.125871</td>\n",
       "      <td>1.267238</td>\n",
       "      <td>-1.302097</td>\n",
       "    </tr>\n",
       "    <tr>\n",
       "      <th>2002-01-04</th>\n",
       "      <td>0.058514</td>\n",
       "      <td>-1.566337</td>\n",
       "      <td>-0.704556</td>\n",
       "      <td>-0.002059</td>\n",
       "    </tr>\n",
       "    <tr>\n",
       "      <th>2002-01-05</th>\n",
       "      <td>0.204571</td>\n",
       "      <td>-0.853162</td>\n",
       "      <td>1.638049</td>\n",
       "      <td>0.901371</td>\n",
       "    </tr>\n",
       "  </tbody>\n",
       "</table>\n",
       "</div>"
      ],
      "text/plain": [
       "                   A         B         C         D\n",
       "2001-12-30  1.447905 -1.585072 -0.596625 -0.120175\n",
       "2001-12-31  2.153064 -0.125871  1.267238 -1.302097\n",
       "2002-01-04  0.058514 -1.566337 -0.704556 -0.002059\n",
       "2002-01-05  0.204571 -0.853162  1.638049  0.901371"
      ]
     },
     "execution_count": 39,
     "metadata": {},
     "output_type": "execute_result"
    }
   ],
   "source": [
    "df[df['A']>0]"
   ]
  },
  {
   "cell_type": "markdown",
   "id": "bab97907",
   "metadata": {},
   "source": [
    "### 从满足布尔条件的 DataFrame 中选择值"
   ]
  },
  {
   "cell_type": "code",
   "execution_count": 40,
   "id": "5d842ded",
   "metadata": {},
   "outputs": [
    {
     "data": {
      "text/html": [
       "<div>\n",
       "<style scoped>\n",
       "    .dataframe tbody tr th:only-of-type {\n",
       "        vertical-align: middle;\n",
       "    }\n",
       "\n",
       "    .dataframe tbody tr th {\n",
       "        vertical-align: top;\n",
       "    }\n",
       "\n",
       "    .dataframe thead th {\n",
       "        text-align: right;\n",
       "    }\n",
       "</style>\n",
       "<table border=\"1\" class=\"dataframe\">\n",
       "  <thead>\n",
       "    <tr style=\"text-align: right;\">\n",
       "      <th></th>\n",
       "      <th>A</th>\n",
       "      <th>B</th>\n",
       "      <th>C</th>\n",
       "      <th>D</th>\n",
       "    </tr>\n",
       "  </thead>\n",
       "  <tbody>\n",
       "    <tr>\n",
       "      <th>2001-12-30</th>\n",
       "      <td>1.447905</td>\n",
       "      <td>NaN</td>\n",
       "      <td>NaN</td>\n",
       "      <td>NaN</td>\n",
       "    </tr>\n",
       "    <tr>\n",
       "      <th>2001-12-31</th>\n",
       "      <td>2.153064</td>\n",
       "      <td>NaN</td>\n",
       "      <td>1.267238</td>\n",
       "      <td>NaN</td>\n",
       "    </tr>\n",
       "    <tr>\n",
       "      <th>2002-01-01</th>\n",
       "      <td>NaN</td>\n",
       "      <td>0.319571</td>\n",
       "      <td>NaN</td>\n",
       "      <td>0.578120</td>\n",
       "    </tr>\n",
       "    <tr>\n",
       "      <th>2002-01-02</th>\n",
       "      <td>NaN</td>\n",
       "      <td>NaN</td>\n",
       "      <td>0.454786</td>\n",
       "      <td>0.725670</td>\n",
       "    </tr>\n",
       "    <tr>\n",
       "      <th>2002-01-03</th>\n",
       "      <td>NaN</td>\n",
       "      <td>NaN</td>\n",
       "      <td>0.442159</td>\n",
       "      <td>NaN</td>\n",
       "    </tr>\n",
       "    <tr>\n",
       "      <th>2002-01-04</th>\n",
       "      <td>0.058514</td>\n",
       "      <td>NaN</td>\n",
       "      <td>NaN</td>\n",
       "      <td>NaN</td>\n",
       "    </tr>\n",
       "    <tr>\n",
       "      <th>2002-01-05</th>\n",
       "      <td>0.204571</td>\n",
       "      <td>NaN</td>\n",
       "      <td>1.638049</td>\n",
       "      <td>0.901371</td>\n",
       "    </tr>\n",
       "    <tr>\n",
       "      <th>2002-01-06</th>\n",
       "      <td>NaN</td>\n",
       "      <td>0.923243</td>\n",
       "      <td>0.404657</td>\n",
       "      <td>NaN</td>\n",
       "    </tr>\n",
       "  </tbody>\n",
       "</table>\n",
       "</div>"
      ],
      "text/plain": [
       "                   A         B         C         D\n",
       "2001-12-30  1.447905       NaN       NaN       NaN\n",
       "2001-12-31  2.153064       NaN  1.267238       NaN\n",
       "2002-01-01       NaN  0.319571       NaN  0.578120\n",
       "2002-01-02       NaN       NaN  0.454786  0.725670\n",
       "2002-01-03       NaN       NaN  0.442159       NaN\n",
       "2002-01-04  0.058514       NaN       NaN       NaN\n",
       "2002-01-05  0.204571       NaN  1.638049  0.901371\n",
       "2002-01-06       NaN  0.923243  0.404657       NaN"
      ]
     },
     "execution_count": 40,
     "metadata": {},
     "output_type": "execute_result"
    }
   ],
   "source": [
    "df[df>0]"
   ]
  },
  {
   "cell_type": "markdown",
   "id": "edcdd76d",
   "metadata": {},
   "source": [
    "### 使用isin()过滤方法"
   ]
  },
  {
   "cell_type": "code",
   "execution_count": 41,
   "id": "e21c7daf",
   "metadata": {},
   "outputs": [],
   "source": [
    "df2 = df.copy()"
   ]
  },
  {
   "cell_type": "code",
   "execution_count": 42,
   "id": "31a20524",
   "metadata": {},
   "outputs": [],
   "source": [
    "df2[\"E\"]=[\"one\", \"one\", \"two\", \"three\", \"four\", \n",
    "          \"three\",\"two\",\"one\"]"
   ]
  },
  {
   "cell_type": "code",
   "execution_count": 43,
   "id": "0d6b8944",
   "metadata": {},
   "outputs": [
    {
     "data": {
      "text/html": [
       "<div>\n",
       "<style scoped>\n",
       "    .dataframe tbody tr th:only-of-type {\n",
       "        vertical-align: middle;\n",
       "    }\n",
       "\n",
       "    .dataframe tbody tr th {\n",
       "        vertical-align: top;\n",
       "    }\n",
       "\n",
       "    .dataframe thead th {\n",
       "        text-align: right;\n",
       "    }\n",
       "</style>\n",
       "<table border=\"1\" class=\"dataframe\">\n",
       "  <thead>\n",
       "    <tr style=\"text-align: right;\">\n",
       "      <th></th>\n",
       "      <th>A</th>\n",
       "      <th>B</th>\n",
       "      <th>C</th>\n",
       "      <th>D</th>\n",
       "      <th>E</th>\n",
       "    </tr>\n",
       "  </thead>\n",
       "  <tbody>\n",
       "    <tr>\n",
       "      <th>2001-12-30</th>\n",
       "      <td>1.447905</td>\n",
       "      <td>-1.585072</td>\n",
       "      <td>-0.596625</td>\n",
       "      <td>-0.120175</td>\n",
       "      <td>one</td>\n",
       "    </tr>\n",
       "    <tr>\n",
       "      <th>2001-12-31</th>\n",
       "      <td>2.153064</td>\n",
       "      <td>-0.125871</td>\n",
       "      <td>1.267238</td>\n",
       "      <td>-1.302097</td>\n",
       "      <td>one</td>\n",
       "    </tr>\n",
       "    <tr>\n",
       "      <th>2002-01-01</th>\n",
       "      <td>-0.449006</td>\n",
       "      <td>0.319571</td>\n",
       "      <td>-0.092478</td>\n",
       "      <td>0.578120</td>\n",
       "      <td>two</td>\n",
       "    </tr>\n",
       "    <tr>\n",
       "      <th>2002-01-02</th>\n",
       "      <td>-1.292372</td>\n",
       "      <td>-0.206607</td>\n",
       "      <td>0.454786</td>\n",
       "      <td>0.725670</td>\n",
       "      <td>three</td>\n",
       "    </tr>\n",
       "    <tr>\n",
       "      <th>2002-01-03</th>\n",
       "      <td>-0.471602</td>\n",
       "      <td>-0.376749</td>\n",
       "      <td>0.442159</td>\n",
       "      <td>-0.767200</td>\n",
       "      <td>four</td>\n",
       "    </tr>\n",
       "    <tr>\n",
       "      <th>2002-01-04</th>\n",
       "      <td>0.058514</td>\n",
       "      <td>-1.566337</td>\n",
       "      <td>-0.704556</td>\n",
       "      <td>-0.002059</td>\n",
       "      <td>three</td>\n",
       "    </tr>\n",
       "    <tr>\n",
       "      <th>2002-01-05</th>\n",
       "      <td>0.204571</td>\n",
       "      <td>-0.853162</td>\n",
       "      <td>1.638049</td>\n",
       "      <td>0.901371</td>\n",
       "      <td>two</td>\n",
       "    </tr>\n",
       "    <tr>\n",
       "      <th>2002-01-06</th>\n",
       "      <td>-0.711878</td>\n",
       "      <td>0.923243</td>\n",
       "      <td>0.404657</td>\n",
       "      <td>-0.719991</td>\n",
       "      <td>one</td>\n",
       "    </tr>\n",
       "  </tbody>\n",
       "</table>\n",
       "</div>"
      ],
      "text/plain": [
       "                   A         B         C         D      E\n",
       "2001-12-30  1.447905 -1.585072 -0.596625 -0.120175    one\n",
       "2001-12-31  2.153064 -0.125871  1.267238 -1.302097    one\n",
       "2002-01-01 -0.449006  0.319571 -0.092478  0.578120    two\n",
       "2002-01-02 -1.292372 -0.206607  0.454786  0.725670  three\n",
       "2002-01-03 -0.471602 -0.376749  0.442159 -0.767200   four\n",
       "2002-01-04  0.058514 -1.566337 -0.704556 -0.002059  three\n",
       "2002-01-05  0.204571 -0.853162  1.638049  0.901371    two\n",
       "2002-01-06 -0.711878  0.923243  0.404657 -0.719991    one"
      ]
     },
     "execution_count": 43,
     "metadata": {},
     "output_type": "execute_result"
    }
   ],
   "source": [
    "df2"
   ]
  },
  {
   "cell_type": "code",
   "execution_count": 44,
   "id": "85e15d20",
   "metadata": {},
   "outputs": [
    {
     "data": {
      "text/html": [
       "<div>\n",
       "<style scoped>\n",
       "    .dataframe tbody tr th:only-of-type {\n",
       "        vertical-align: middle;\n",
       "    }\n",
       "\n",
       "    .dataframe tbody tr th {\n",
       "        vertical-align: top;\n",
       "    }\n",
       "\n",
       "    .dataframe thead th {\n",
       "        text-align: right;\n",
       "    }\n",
       "</style>\n",
       "<table border=\"1\" class=\"dataframe\">\n",
       "  <thead>\n",
       "    <tr style=\"text-align: right;\">\n",
       "      <th></th>\n",
       "      <th>A</th>\n",
       "      <th>B</th>\n",
       "      <th>C</th>\n",
       "      <th>D</th>\n",
       "      <th>E</th>\n",
       "    </tr>\n",
       "  </thead>\n",
       "  <tbody>\n",
       "    <tr>\n",
       "      <th>2002-01-01</th>\n",
       "      <td>-0.449006</td>\n",
       "      <td>0.319571</td>\n",
       "      <td>-0.092478</td>\n",
       "      <td>0.578120</td>\n",
       "      <td>two</td>\n",
       "    </tr>\n",
       "    <tr>\n",
       "      <th>2002-01-03</th>\n",
       "      <td>-0.471602</td>\n",
       "      <td>-0.376749</td>\n",
       "      <td>0.442159</td>\n",
       "      <td>-0.767200</td>\n",
       "      <td>four</td>\n",
       "    </tr>\n",
       "    <tr>\n",
       "      <th>2002-01-05</th>\n",
       "      <td>0.204571</td>\n",
       "      <td>-0.853162</td>\n",
       "      <td>1.638049</td>\n",
       "      <td>0.901371</td>\n",
       "      <td>two</td>\n",
       "    </tr>\n",
       "  </tbody>\n",
       "</table>\n",
       "</div>"
      ],
      "text/plain": [
       "                   A         B         C         D     E\n",
       "2002-01-01 -0.449006  0.319571 -0.092478  0.578120   two\n",
       "2002-01-03 -0.471602 -0.376749  0.442159 -0.767200  four\n",
       "2002-01-05  0.204571 -0.853162  1.638049  0.901371   two"
      ]
     },
     "execution_count": 44,
     "metadata": {},
     "output_type": "execute_result"
    }
   ],
   "source": [
    "df2[df2['E'].isin(['two','four'])]"
   ]
  },
  {
   "cell_type": "markdown",
   "id": "398a1533",
   "metadata": {},
   "source": [
    "## 设置"
   ]
  },
  {
   "cell_type": "markdown",
   "id": "85d561c2",
   "metadata": {},
   "source": [
    "设置新列会自动按索引对齐数据"
   ]
  },
  {
   "cell_type": "code",
   "execution_count": 45,
   "id": "4da8d4ab",
   "metadata": {
    "scrolled": false
   },
   "outputs": [],
   "source": [
    "s1 = pd.Series([1,2,3,4,5,6], index=pd.date_range(\"20130102\", periods=6))"
   ]
  },
  {
   "cell_type": "code",
   "execution_count": 46,
   "id": "fc028c6a",
   "metadata": {},
   "outputs": [
    {
     "data": {
      "text/plain": [
       "2013-01-02    1\n",
       "2013-01-03    2\n",
       "2013-01-04    3\n",
       "2013-01-05    4\n",
       "2013-01-06    5\n",
       "2013-01-07    6\n",
       "Freq: D, dtype: int64"
      ]
     },
     "execution_count": 46,
     "metadata": {},
     "output_type": "execute_result"
    }
   ],
   "source": [
    "s1"
   ]
  },
  {
   "cell_type": "markdown",
   "id": "e155d5ab",
   "metadata": {},
   "source": [
    "### 按标签设置值"
   ]
  },
  {
   "cell_type": "code",
   "execution_count": 47,
   "id": "627fa47d",
   "metadata": {},
   "outputs": [],
   "source": [
    "df.at[dates[0],'A']=1.98765"
   ]
  },
  {
   "cell_type": "code",
   "execution_count": 48,
   "id": "14e3f4e5",
   "metadata": {},
   "outputs": [
    {
     "data": {
      "text/html": [
       "<div>\n",
       "<style scoped>\n",
       "    .dataframe tbody tr th:only-of-type {\n",
       "        vertical-align: middle;\n",
       "    }\n",
       "\n",
       "    .dataframe tbody tr th {\n",
       "        vertical-align: top;\n",
       "    }\n",
       "\n",
       "    .dataframe thead th {\n",
       "        text-align: right;\n",
       "    }\n",
       "</style>\n",
       "<table border=\"1\" class=\"dataframe\">\n",
       "  <thead>\n",
       "    <tr style=\"text-align: right;\">\n",
       "      <th></th>\n",
       "      <th>A</th>\n",
       "      <th>B</th>\n",
       "      <th>C</th>\n",
       "      <th>D</th>\n",
       "    </tr>\n",
       "  </thead>\n",
       "  <tbody>\n",
       "    <tr>\n",
       "      <th>2001-12-30</th>\n",
       "      <td>1.987650</td>\n",
       "      <td>-1.585072</td>\n",
       "      <td>-0.596625</td>\n",
       "      <td>-0.120175</td>\n",
       "    </tr>\n",
       "    <tr>\n",
       "      <th>2001-12-31</th>\n",
       "      <td>2.153064</td>\n",
       "      <td>-0.125871</td>\n",
       "      <td>1.267238</td>\n",
       "      <td>-1.302097</td>\n",
       "    </tr>\n",
       "    <tr>\n",
       "      <th>2002-01-01</th>\n",
       "      <td>-0.449006</td>\n",
       "      <td>0.319571</td>\n",
       "      <td>-0.092478</td>\n",
       "      <td>0.578120</td>\n",
       "    </tr>\n",
       "    <tr>\n",
       "      <th>2002-01-02</th>\n",
       "      <td>-1.292372</td>\n",
       "      <td>-0.206607</td>\n",
       "      <td>0.454786</td>\n",
       "      <td>0.725670</td>\n",
       "    </tr>\n",
       "    <tr>\n",
       "      <th>2002-01-03</th>\n",
       "      <td>-0.471602</td>\n",
       "      <td>-0.376749</td>\n",
       "      <td>0.442159</td>\n",
       "      <td>-0.767200</td>\n",
       "    </tr>\n",
       "    <tr>\n",
       "      <th>2002-01-04</th>\n",
       "      <td>0.058514</td>\n",
       "      <td>-1.566337</td>\n",
       "      <td>-0.704556</td>\n",
       "      <td>-0.002059</td>\n",
       "    </tr>\n",
       "    <tr>\n",
       "      <th>2002-01-05</th>\n",
       "      <td>0.204571</td>\n",
       "      <td>-0.853162</td>\n",
       "      <td>1.638049</td>\n",
       "      <td>0.901371</td>\n",
       "    </tr>\n",
       "    <tr>\n",
       "      <th>2002-01-06</th>\n",
       "      <td>-0.711878</td>\n",
       "      <td>0.923243</td>\n",
       "      <td>0.404657</td>\n",
       "      <td>-0.719991</td>\n",
       "    </tr>\n",
       "  </tbody>\n",
       "</table>\n",
       "</div>"
      ],
      "text/plain": [
       "                   A         B         C         D\n",
       "2001-12-30  1.987650 -1.585072 -0.596625 -0.120175\n",
       "2001-12-31  2.153064 -0.125871  1.267238 -1.302097\n",
       "2002-01-01 -0.449006  0.319571 -0.092478  0.578120\n",
       "2002-01-02 -1.292372 -0.206607  0.454786  0.725670\n",
       "2002-01-03 -0.471602 -0.376749  0.442159 -0.767200\n",
       "2002-01-04  0.058514 -1.566337 -0.704556 -0.002059\n",
       "2002-01-05  0.204571 -0.853162  1.638049  0.901371\n",
       "2002-01-06 -0.711878  0.923243  0.404657 -0.719991"
      ]
     },
     "execution_count": 48,
     "metadata": {},
     "output_type": "execute_result"
    }
   ],
   "source": [
    "df"
   ]
  },
  {
   "cell_type": "markdown",
   "id": "9bc58e5d",
   "metadata": {},
   "source": [
    "### 按位置设置值"
   ]
  },
  {
   "cell_type": "code",
   "execution_count": 49,
   "id": "affb1ad1",
   "metadata": {},
   "outputs": [],
   "source": [
    "df.iat[1,3]=1.23456"
   ]
  },
  {
   "cell_type": "code",
   "execution_count": 50,
   "id": "1f93783f",
   "metadata": {},
   "outputs": [
    {
     "data": {
      "text/html": [
       "<div>\n",
       "<style scoped>\n",
       "    .dataframe tbody tr th:only-of-type {\n",
       "        vertical-align: middle;\n",
       "    }\n",
       "\n",
       "    .dataframe tbody tr th {\n",
       "        vertical-align: top;\n",
       "    }\n",
       "\n",
       "    .dataframe thead th {\n",
       "        text-align: right;\n",
       "    }\n",
       "</style>\n",
       "<table border=\"1\" class=\"dataframe\">\n",
       "  <thead>\n",
       "    <tr style=\"text-align: right;\">\n",
       "      <th></th>\n",
       "      <th>A</th>\n",
       "      <th>B</th>\n",
       "      <th>C</th>\n",
       "      <th>D</th>\n",
       "    </tr>\n",
       "  </thead>\n",
       "  <tbody>\n",
       "    <tr>\n",
       "      <th>2001-12-30</th>\n",
       "      <td>1.987650</td>\n",
       "      <td>-1.585072</td>\n",
       "      <td>-0.596625</td>\n",
       "      <td>-0.120175</td>\n",
       "    </tr>\n",
       "    <tr>\n",
       "      <th>2001-12-31</th>\n",
       "      <td>2.153064</td>\n",
       "      <td>-0.125871</td>\n",
       "      <td>1.267238</td>\n",
       "      <td>1.234560</td>\n",
       "    </tr>\n",
       "    <tr>\n",
       "      <th>2002-01-01</th>\n",
       "      <td>-0.449006</td>\n",
       "      <td>0.319571</td>\n",
       "      <td>-0.092478</td>\n",
       "      <td>0.578120</td>\n",
       "    </tr>\n",
       "    <tr>\n",
       "      <th>2002-01-02</th>\n",
       "      <td>-1.292372</td>\n",
       "      <td>-0.206607</td>\n",
       "      <td>0.454786</td>\n",
       "      <td>0.725670</td>\n",
       "    </tr>\n",
       "    <tr>\n",
       "      <th>2002-01-03</th>\n",
       "      <td>-0.471602</td>\n",
       "      <td>-0.376749</td>\n",
       "      <td>0.442159</td>\n",
       "      <td>-0.767200</td>\n",
       "    </tr>\n",
       "    <tr>\n",
       "      <th>2002-01-04</th>\n",
       "      <td>0.058514</td>\n",
       "      <td>-1.566337</td>\n",
       "      <td>-0.704556</td>\n",
       "      <td>-0.002059</td>\n",
       "    </tr>\n",
       "    <tr>\n",
       "      <th>2002-01-05</th>\n",
       "      <td>0.204571</td>\n",
       "      <td>-0.853162</td>\n",
       "      <td>1.638049</td>\n",
       "      <td>0.901371</td>\n",
       "    </tr>\n",
       "    <tr>\n",
       "      <th>2002-01-06</th>\n",
       "      <td>-0.711878</td>\n",
       "      <td>0.923243</td>\n",
       "      <td>0.404657</td>\n",
       "      <td>-0.719991</td>\n",
       "    </tr>\n",
       "  </tbody>\n",
       "</table>\n",
       "</div>"
      ],
      "text/plain": [
       "                   A         B         C         D\n",
       "2001-12-30  1.987650 -1.585072 -0.596625 -0.120175\n",
       "2001-12-31  2.153064 -0.125871  1.267238  1.234560\n",
       "2002-01-01 -0.449006  0.319571 -0.092478  0.578120\n",
       "2002-01-02 -1.292372 -0.206607  0.454786  0.725670\n",
       "2002-01-03 -0.471602 -0.376749  0.442159 -0.767200\n",
       "2002-01-04  0.058514 -1.566337 -0.704556 -0.002059\n",
       "2002-01-05  0.204571 -0.853162  1.638049  0.901371\n",
       "2002-01-06 -0.711878  0.923243  0.404657 -0.719991"
      ]
     },
     "execution_count": 50,
     "metadata": {},
     "output_type": "execute_result"
    }
   ],
   "source": [
    "df"
   ]
  },
  {
   "cell_type": "markdown",
   "id": "b2f0528b",
   "metadata": {},
   "source": [
    "### 通过使用numpy数组赋值来设置"
   ]
  },
  {
   "cell_type": "code",
   "execution_count": 51,
   "id": "3ee43ae4",
   "metadata": {},
   "outputs": [],
   "source": [
    "df.loc[:,'D']=np.array([5]*len(df))"
   ]
  },
  {
   "cell_type": "code",
   "execution_count": 52,
   "id": "bd2c9a42",
   "metadata": {},
   "outputs": [
    {
     "data": {
      "text/html": [
       "<div>\n",
       "<style scoped>\n",
       "    .dataframe tbody tr th:only-of-type {\n",
       "        vertical-align: middle;\n",
       "    }\n",
       "\n",
       "    .dataframe tbody tr th {\n",
       "        vertical-align: top;\n",
       "    }\n",
       "\n",
       "    .dataframe thead th {\n",
       "        text-align: right;\n",
       "    }\n",
       "</style>\n",
       "<table border=\"1\" class=\"dataframe\">\n",
       "  <thead>\n",
       "    <tr style=\"text-align: right;\">\n",
       "      <th></th>\n",
       "      <th>A</th>\n",
       "      <th>B</th>\n",
       "      <th>C</th>\n",
       "      <th>D</th>\n",
       "    </tr>\n",
       "  </thead>\n",
       "  <tbody>\n",
       "    <tr>\n",
       "      <th>2001-12-30</th>\n",
       "      <td>1.987650</td>\n",
       "      <td>-1.585072</td>\n",
       "      <td>-0.596625</td>\n",
       "      <td>5</td>\n",
       "    </tr>\n",
       "    <tr>\n",
       "      <th>2001-12-31</th>\n",
       "      <td>2.153064</td>\n",
       "      <td>-0.125871</td>\n",
       "      <td>1.267238</td>\n",
       "      <td>5</td>\n",
       "    </tr>\n",
       "    <tr>\n",
       "      <th>2002-01-01</th>\n",
       "      <td>-0.449006</td>\n",
       "      <td>0.319571</td>\n",
       "      <td>-0.092478</td>\n",
       "      <td>5</td>\n",
       "    </tr>\n",
       "    <tr>\n",
       "      <th>2002-01-02</th>\n",
       "      <td>-1.292372</td>\n",
       "      <td>-0.206607</td>\n",
       "      <td>0.454786</td>\n",
       "      <td>5</td>\n",
       "    </tr>\n",
       "    <tr>\n",
       "      <th>2002-01-03</th>\n",
       "      <td>-0.471602</td>\n",
       "      <td>-0.376749</td>\n",
       "      <td>0.442159</td>\n",
       "      <td>5</td>\n",
       "    </tr>\n",
       "    <tr>\n",
       "      <th>2002-01-04</th>\n",
       "      <td>0.058514</td>\n",
       "      <td>-1.566337</td>\n",
       "      <td>-0.704556</td>\n",
       "      <td>5</td>\n",
       "    </tr>\n",
       "    <tr>\n",
       "      <th>2002-01-05</th>\n",
       "      <td>0.204571</td>\n",
       "      <td>-0.853162</td>\n",
       "      <td>1.638049</td>\n",
       "      <td>5</td>\n",
       "    </tr>\n",
       "    <tr>\n",
       "      <th>2002-01-06</th>\n",
       "      <td>-0.711878</td>\n",
       "      <td>0.923243</td>\n",
       "      <td>0.404657</td>\n",
       "      <td>5</td>\n",
       "    </tr>\n",
       "  </tbody>\n",
       "</table>\n",
       "</div>"
      ],
      "text/plain": [
       "                   A         B         C  D\n",
       "2001-12-30  1.987650 -1.585072 -0.596625  5\n",
       "2001-12-31  2.153064 -0.125871  1.267238  5\n",
       "2002-01-01 -0.449006  0.319571 -0.092478  5\n",
       "2002-01-02 -1.292372 -0.206607  0.454786  5\n",
       "2002-01-03 -0.471602 -0.376749  0.442159  5\n",
       "2002-01-04  0.058514 -1.566337 -0.704556  5\n",
       "2002-01-05  0.204571 -0.853162  1.638049  5\n",
       "2002-01-06 -0.711878  0.923243  0.404657  5"
      ]
     },
     "execution_count": 52,
     "metadata": {},
     "output_type": "execute_result"
    }
   ],
   "source": [
    "df"
   ]
  },
  {
   "cell_type": "markdown",
   "id": "ddf74718",
   "metadata": {},
   "source": [
    "### 把表中的正数变成相反数"
   ]
  },
  {
   "cell_type": "code",
   "execution_count": 53,
   "id": "b277ed44",
   "metadata": {},
   "outputs": [],
   "source": [
    "df2 = df.copy()"
   ]
  },
  {
   "cell_type": "code",
   "execution_count": 54,
   "id": "687c0d46",
   "metadata": {},
   "outputs": [],
   "source": [
    "df2[df2>0]=-df2"
   ]
  },
  {
   "cell_type": "code",
   "execution_count": 55,
   "id": "0ce1b6c2",
   "metadata": {},
   "outputs": [
    {
     "data": {
      "text/html": [
       "<div>\n",
       "<style scoped>\n",
       "    .dataframe tbody tr th:only-of-type {\n",
       "        vertical-align: middle;\n",
       "    }\n",
       "\n",
       "    .dataframe tbody tr th {\n",
       "        vertical-align: top;\n",
       "    }\n",
       "\n",
       "    .dataframe thead th {\n",
       "        text-align: right;\n",
       "    }\n",
       "</style>\n",
       "<table border=\"1\" class=\"dataframe\">\n",
       "  <thead>\n",
       "    <tr style=\"text-align: right;\">\n",
       "      <th></th>\n",
       "      <th>A</th>\n",
       "      <th>B</th>\n",
       "      <th>C</th>\n",
       "      <th>D</th>\n",
       "    </tr>\n",
       "  </thead>\n",
       "  <tbody>\n",
       "    <tr>\n",
       "      <th>2001-12-30</th>\n",
       "      <td>-1.987650</td>\n",
       "      <td>-1.585072</td>\n",
       "      <td>-0.596625</td>\n",
       "      <td>-5</td>\n",
       "    </tr>\n",
       "    <tr>\n",
       "      <th>2001-12-31</th>\n",
       "      <td>-2.153064</td>\n",
       "      <td>-0.125871</td>\n",
       "      <td>-1.267238</td>\n",
       "      <td>-5</td>\n",
       "    </tr>\n",
       "    <tr>\n",
       "      <th>2002-01-01</th>\n",
       "      <td>-0.449006</td>\n",
       "      <td>-0.319571</td>\n",
       "      <td>-0.092478</td>\n",
       "      <td>-5</td>\n",
       "    </tr>\n",
       "    <tr>\n",
       "      <th>2002-01-02</th>\n",
       "      <td>-1.292372</td>\n",
       "      <td>-0.206607</td>\n",
       "      <td>-0.454786</td>\n",
       "      <td>-5</td>\n",
       "    </tr>\n",
       "    <tr>\n",
       "      <th>2002-01-03</th>\n",
       "      <td>-0.471602</td>\n",
       "      <td>-0.376749</td>\n",
       "      <td>-0.442159</td>\n",
       "      <td>-5</td>\n",
       "    </tr>\n",
       "    <tr>\n",
       "      <th>2002-01-04</th>\n",
       "      <td>-0.058514</td>\n",
       "      <td>-1.566337</td>\n",
       "      <td>-0.704556</td>\n",
       "      <td>-5</td>\n",
       "    </tr>\n",
       "    <tr>\n",
       "      <th>2002-01-05</th>\n",
       "      <td>-0.204571</td>\n",
       "      <td>-0.853162</td>\n",
       "      <td>-1.638049</td>\n",
       "      <td>-5</td>\n",
       "    </tr>\n",
       "    <tr>\n",
       "      <th>2002-01-06</th>\n",
       "      <td>-0.711878</td>\n",
       "      <td>-0.923243</td>\n",
       "      <td>-0.404657</td>\n",
       "      <td>-5</td>\n",
       "    </tr>\n",
       "  </tbody>\n",
       "</table>\n",
       "</div>"
      ],
      "text/plain": [
       "                   A         B         C  D\n",
       "2001-12-30 -1.987650 -1.585072 -0.596625 -5\n",
       "2001-12-31 -2.153064 -0.125871 -1.267238 -5\n",
       "2002-01-01 -0.449006 -0.319571 -0.092478 -5\n",
       "2002-01-02 -1.292372 -0.206607 -0.454786 -5\n",
       "2002-01-03 -0.471602 -0.376749 -0.442159 -5\n",
       "2002-01-04 -0.058514 -1.566337 -0.704556 -5\n",
       "2002-01-05 -0.204571 -0.853162 -1.638049 -5\n",
       "2002-01-06 -0.711878 -0.923243 -0.404657 -5"
      ]
     },
     "execution_count": 55,
     "metadata": {},
     "output_type": "execute_result"
    }
   ],
   "source": [
    "df2"
   ]
  },
  {
   "cell_type": "markdown",
   "id": "a5fee78b",
   "metadata": {},
   "source": [
    "## 统计"
   ]
  },
  {
   "cell_type": "markdown",
   "id": "30c7a76b",
   "metadata": {},
   "source": [
    "### 执行描述性统计"
   ]
  },
  {
   "cell_type": "code",
   "execution_count": 56,
   "id": "1536095e",
   "metadata": {},
   "outputs": [
    {
     "data": {
      "text/plain": [
       "A    0.184868\n",
       "B   -0.433873\n",
       "C    0.351654\n",
       "D    5.000000\n",
       "dtype: float64"
      ]
     },
     "execution_count": 56,
     "metadata": {},
     "output_type": "execute_result"
    }
   ],
   "source": [
    "df.mean()"
   ]
  },
  {
   "cell_type": "markdown",
   "id": "e64c00d5",
   "metadata": {},
   "source": [
    "另一个轴上的相同操作"
   ]
  },
  {
   "cell_type": "code",
   "execution_count": 57,
   "id": "44212938",
   "metadata": {},
   "outputs": [
    {
     "data": {
      "text/plain": [
       "2001-12-30    1.201488\n",
       "2001-12-31    2.073608\n",
       "2002-01-01    1.194522\n",
       "2002-01-02    0.988952\n",
       "2002-01-03    1.148452\n",
       "2002-01-04    0.696905\n",
       "2002-01-05    1.497364\n",
       "2002-01-06    1.404006\n",
       "Freq: D, dtype: float64"
      ]
     },
     "execution_count": 57,
     "metadata": {},
     "output_type": "execute_result"
    }
   ],
   "source": [
    "df.mean(1)"
   ]
  },
  {
   "cell_type": "markdown",
   "id": "6e552f29",
   "metadata": {},
   "source": [
    "操作具有不同维度且需要对齐的对象。此外，pandas 会自动沿指定维度进行广播"
   ]
  },
  {
   "cell_type": "code",
   "execution_count": 58,
   "id": "73dabc3c",
   "metadata": {},
   "outputs": [],
   "source": [
    "s1 = pd.Series([1, 3, 5, np.nan, 6, 8,10,12], index=dates).shift(2)"
   ]
  },
  {
   "cell_type": "code",
   "execution_count": 59,
   "id": "991509c0",
   "metadata": {},
   "outputs": [
    {
     "data": {
      "text/plain": [
       "0     1.0\n",
       "1     3.0\n",
       "2     5.0\n",
       "3     NaN\n",
       "4     6.0\n",
       "5     8.0\n",
       "6    10.0\n",
       "7    12.0\n",
       "dtype: float64"
      ]
     },
     "execution_count": 59,
     "metadata": {},
     "output_type": "execute_result"
    }
   ],
   "source": [
    "s"
   ]
  },
  {
   "cell_type": "code",
   "execution_count": 60,
   "id": "2b2c733b",
   "metadata": {},
   "outputs": [
    {
     "data": {
      "text/html": [
       "<div>\n",
       "<style scoped>\n",
       "    .dataframe tbody tr th:only-of-type {\n",
       "        vertical-align: middle;\n",
       "    }\n",
       "\n",
       "    .dataframe tbody tr th {\n",
       "        vertical-align: top;\n",
       "    }\n",
       "\n",
       "    .dataframe thead th {\n",
       "        text-align: right;\n",
       "    }\n",
       "</style>\n",
       "<table border=\"1\" class=\"dataframe\">\n",
       "  <thead>\n",
       "    <tr style=\"text-align: right;\">\n",
       "      <th></th>\n",
       "      <th>A</th>\n",
       "      <th>B</th>\n",
       "      <th>C</th>\n",
       "      <th>D</th>\n",
       "    </tr>\n",
       "  </thead>\n",
       "  <tbody>\n",
       "    <tr>\n",
       "      <th>2001-12-30 00:00:00</th>\n",
       "      <td>NaN</td>\n",
       "      <td>NaN</td>\n",
       "      <td>NaN</td>\n",
       "      <td>NaN</td>\n",
       "    </tr>\n",
       "    <tr>\n",
       "      <th>2001-12-31 00:00:00</th>\n",
       "      <td>NaN</td>\n",
       "      <td>NaN</td>\n",
       "      <td>NaN</td>\n",
       "      <td>NaN</td>\n",
       "    </tr>\n",
       "    <tr>\n",
       "      <th>2002-01-01 00:00:00</th>\n",
       "      <td>NaN</td>\n",
       "      <td>NaN</td>\n",
       "      <td>NaN</td>\n",
       "      <td>NaN</td>\n",
       "    </tr>\n",
       "    <tr>\n",
       "      <th>2002-01-02 00:00:00</th>\n",
       "      <td>NaN</td>\n",
       "      <td>NaN</td>\n",
       "      <td>NaN</td>\n",
       "      <td>NaN</td>\n",
       "    </tr>\n",
       "    <tr>\n",
       "      <th>2002-01-03 00:00:00</th>\n",
       "      <td>NaN</td>\n",
       "      <td>NaN</td>\n",
       "      <td>NaN</td>\n",
       "      <td>NaN</td>\n",
       "    </tr>\n",
       "    <tr>\n",
       "      <th>2002-01-04 00:00:00</th>\n",
       "      <td>NaN</td>\n",
       "      <td>NaN</td>\n",
       "      <td>NaN</td>\n",
       "      <td>NaN</td>\n",
       "    </tr>\n",
       "    <tr>\n",
       "      <th>2002-01-05 00:00:00</th>\n",
       "      <td>NaN</td>\n",
       "      <td>NaN</td>\n",
       "      <td>NaN</td>\n",
       "      <td>NaN</td>\n",
       "    </tr>\n",
       "    <tr>\n",
       "      <th>2002-01-06 00:00:00</th>\n",
       "      <td>NaN</td>\n",
       "      <td>NaN</td>\n",
       "      <td>NaN</td>\n",
       "      <td>NaN</td>\n",
       "    </tr>\n",
       "    <tr>\n",
       "      <th>0</th>\n",
       "      <td>NaN</td>\n",
       "      <td>NaN</td>\n",
       "      <td>NaN</td>\n",
       "      <td>NaN</td>\n",
       "    </tr>\n",
       "    <tr>\n",
       "      <th>1</th>\n",
       "      <td>NaN</td>\n",
       "      <td>NaN</td>\n",
       "      <td>NaN</td>\n",
       "      <td>NaN</td>\n",
       "    </tr>\n",
       "    <tr>\n",
       "      <th>2</th>\n",
       "      <td>NaN</td>\n",
       "      <td>NaN</td>\n",
       "      <td>NaN</td>\n",
       "      <td>NaN</td>\n",
       "    </tr>\n",
       "    <tr>\n",
       "      <th>3</th>\n",
       "      <td>NaN</td>\n",
       "      <td>NaN</td>\n",
       "      <td>NaN</td>\n",
       "      <td>NaN</td>\n",
       "    </tr>\n",
       "    <tr>\n",
       "      <th>4</th>\n",
       "      <td>NaN</td>\n",
       "      <td>NaN</td>\n",
       "      <td>NaN</td>\n",
       "      <td>NaN</td>\n",
       "    </tr>\n",
       "    <tr>\n",
       "      <th>5</th>\n",
       "      <td>NaN</td>\n",
       "      <td>NaN</td>\n",
       "      <td>NaN</td>\n",
       "      <td>NaN</td>\n",
       "    </tr>\n",
       "    <tr>\n",
       "      <th>6</th>\n",
       "      <td>NaN</td>\n",
       "      <td>NaN</td>\n",
       "      <td>NaN</td>\n",
       "      <td>NaN</td>\n",
       "    </tr>\n",
       "    <tr>\n",
       "      <th>7</th>\n",
       "      <td>NaN</td>\n",
       "      <td>NaN</td>\n",
       "      <td>NaN</td>\n",
       "      <td>NaN</td>\n",
       "    </tr>\n",
       "  </tbody>\n",
       "</table>\n",
       "</div>"
      ],
      "text/plain": [
       "                      A   B   C   D\n",
       "2001-12-30 00:00:00 NaN NaN NaN NaN\n",
       "2001-12-31 00:00:00 NaN NaN NaN NaN\n",
       "2002-01-01 00:00:00 NaN NaN NaN NaN\n",
       "2002-01-02 00:00:00 NaN NaN NaN NaN\n",
       "2002-01-03 00:00:00 NaN NaN NaN NaN\n",
       "2002-01-04 00:00:00 NaN NaN NaN NaN\n",
       "2002-01-05 00:00:00 NaN NaN NaN NaN\n",
       "2002-01-06 00:00:00 NaN NaN NaN NaN\n",
       "0                   NaN NaN NaN NaN\n",
       "1                   NaN NaN NaN NaN\n",
       "2                   NaN NaN NaN NaN\n",
       "3                   NaN NaN NaN NaN\n",
       "4                   NaN NaN NaN NaN\n",
       "5                   NaN NaN NaN NaN\n",
       "6                   NaN NaN NaN NaN\n",
       "7                   NaN NaN NaN NaN"
      ]
     },
     "execution_count": 60,
     "metadata": {},
     "output_type": "execute_result"
    }
   ],
   "source": [
    "df.sub(s, axis=\"index\")"
   ]
  }
 ],
 "metadata": {
  "kernelspec": {
   "display_name": "Python 3",
   "language": "python",
   "name": "python3"
  },
  "language_info": {
   "codemirror_mode": {
    "name": "ipython",
    "version": 3
   },
   "file_extension": ".py",
   "mimetype": "text/x-python",
   "name": "python",
   "nbconvert_exporter": "python",
   "pygments_lexer": "ipython3",
   "version": "3.8.8"
  }
 },
 "nbformat": 4,
 "nbformat_minor": 5
}
