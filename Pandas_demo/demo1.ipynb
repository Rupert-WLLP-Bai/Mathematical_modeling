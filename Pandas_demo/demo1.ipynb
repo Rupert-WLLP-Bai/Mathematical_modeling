{
 "cells": [
  {
   "cell_type": "code",
   "execution_count": 1,
   "id": "c71cc26b",
   "metadata": {},
   "outputs": [],
   "source": [
    "import numpy as np"
   ]
  },
  {
   "cell_type": "code",
   "execution_count": 2,
   "id": "e281cdb4",
   "metadata": {},
   "outputs": [],
   "source": [
    "import pandas as pd"
   ]
  },
  {
   "cell_type": "code",
   "execution_count": 3,
   "id": "6991243e",
   "metadata": {},
   "outputs": [],
   "source": [
    "s = pd.Series([1,3,5,np.nan,6,8])"
   ]
  },
  {
   "cell_type": "code",
   "execution_count": 4,
   "id": "57fb19d1",
   "metadata": {},
   "outputs": [
    {
     "data": {
      "text/plain": [
       "0    1.0\n",
       "1    3.0\n",
       "2    5.0\n",
       "3    NaN\n",
       "4    6.0\n",
       "5    8.0\n",
       "dtype: float64"
      ]
     },
     "execution_count": 4,
     "metadata": {},
     "output_type": "execute_result"
    }
   ],
   "source": [
    "s"
   ]
  },
  {
   "cell_type": "code",
   "execution_count": 5,
   "id": "b3c7786f",
   "metadata": {},
   "outputs": [],
   "source": [
    "dates = pd.date_range(\"20011230\", periods=6)"
   ]
  },
  {
   "cell_type": "code",
   "execution_count": 6,
   "id": "77142653",
   "metadata": {},
   "outputs": [
    {
     "data": {
      "text/plain": [
       "DatetimeIndex(['2001-12-30', '2001-12-31', '2002-01-01', '2002-01-02',\n",
       "               '2002-01-03', '2002-01-04'],\n",
       "              dtype='datetime64[ns]', freq='D')"
      ]
     },
     "execution_count": 6,
     "metadata": {},
     "output_type": "execute_result"
    }
   ],
   "source": [
    "dates"
   ]
  },
  {
   "cell_type": "code",
   "execution_count": 7,
   "id": "18044331",
   "metadata": {},
   "outputs": [],
   "source": [
    "df = pd.DataFrame(np.random.randn(6, 4), index=dates, columns=list(\"ABCD\"))"
   ]
  },
  {
   "cell_type": "code",
   "execution_count": 8,
   "id": "cd8309af",
   "metadata": {},
   "outputs": [
    {
     "data": {
      "text/html": [
       "<div>\n",
       "<style scoped>\n",
       "    .dataframe tbody tr th:only-of-type {\n",
       "        vertical-align: middle;\n",
       "    }\n",
       "\n",
       "    .dataframe tbody tr th {\n",
       "        vertical-align: top;\n",
       "    }\n",
       "\n",
       "    .dataframe thead th {\n",
       "        text-align: right;\n",
       "    }\n",
       "</style>\n",
       "<table border=\"1\" class=\"dataframe\">\n",
       "  <thead>\n",
       "    <tr style=\"text-align: right;\">\n",
       "      <th></th>\n",
       "      <th>A</th>\n",
       "      <th>B</th>\n",
       "      <th>C</th>\n",
       "      <th>D</th>\n",
       "    </tr>\n",
       "  </thead>\n",
       "  <tbody>\n",
       "    <tr>\n",
       "      <th>2001-12-30</th>\n",
       "      <td>-0.753951</td>\n",
       "      <td>0.168511</td>\n",
       "      <td>0.533187</td>\n",
       "      <td>1.370839</td>\n",
       "    </tr>\n",
       "    <tr>\n",
       "      <th>2001-12-31</th>\n",
       "      <td>0.749287</td>\n",
       "      <td>-0.124941</td>\n",
       "      <td>-1.402810</td>\n",
       "      <td>1.516351</td>\n",
       "    </tr>\n",
       "    <tr>\n",
       "      <th>2002-01-01</th>\n",
       "      <td>0.304845</td>\n",
       "      <td>-0.567577</td>\n",
       "      <td>-0.600095</td>\n",
       "      <td>-2.338366</td>\n",
       "    </tr>\n",
       "    <tr>\n",
       "      <th>2002-01-02</th>\n",
       "      <td>0.082359</td>\n",
       "      <td>-0.107569</td>\n",
       "      <td>0.138668</td>\n",
       "      <td>0.311240</td>\n",
       "    </tr>\n",
       "    <tr>\n",
       "      <th>2002-01-03</th>\n",
       "      <td>-0.507269</td>\n",
       "      <td>1.104100</td>\n",
       "      <td>0.941182</td>\n",
       "      <td>-0.223680</td>\n",
       "    </tr>\n",
       "    <tr>\n",
       "      <th>2002-01-04</th>\n",
       "      <td>1.482971</td>\n",
       "      <td>0.059103</td>\n",
       "      <td>1.555629</td>\n",
       "      <td>-0.412982</td>\n",
       "    </tr>\n",
       "  </tbody>\n",
       "</table>\n",
       "</div>"
      ],
      "text/plain": [
       "                   A         B         C         D\n",
       "2001-12-30 -0.753951  0.168511  0.533187  1.370839\n",
       "2001-12-31  0.749287 -0.124941 -1.402810  1.516351\n",
       "2002-01-01  0.304845 -0.567577 -0.600095 -2.338366\n",
       "2002-01-02  0.082359 -0.107569  0.138668  0.311240\n",
       "2002-01-03 -0.507269  1.104100  0.941182 -0.223680\n",
       "2002-01-04  1.482971  0.059103  1.555629 -0.412982"
      ]
     },
     "execution_count": 8,
     "metadata": {},
     "output_type": "execute_result"
    }
   ],
   "source": [
    "df"
   ]
  },
  {
   "cell_type": "code",
   "execution_count": 9,
   "id": "3c1adc55",
   "metadata": {},
   "outputs": [],
   "source": [
    "df2 = pd.DataFrame(\n",
    "    {\n",
    "        \"A\": 1.0,\n",
    "        \"B\": pd.Timestamp(\"20130102\"),\n",
    "        \"C\": pd.Series(1, index=list(range(4)), dtype=\"float32\"),\n",
    "        \"D\": np.array([3] * 4, dtype=\"int32\"),\n",
    "        \"E\": pd.Categorical([\"test\", \"train\", \"test\", \"train\"]),\n",
    "        \"F\": \"foo\",\n",
    "    }\n",
    ")"
   ]
  },
  {
   "cell_type": "code",
   "execution_count": 10,
   "id": "1e3b7d05",
   "metadata": {},
   "outputs": [
    {
     "data": {
      "text/html": [
       "<div>\n",
       "<style scoped>\n",
       "    .dataframe tbody tr th:only-of-type {\n",
       "        vertical-align: middle;\n",
       "    }\n",
       "\n",
       "    .dataframe tbody tr th {\n",
       "        vertical-align: top;\n",
       "    }\n",
       "\n",
       "    .dataframe thead th {\n",
       "        text-align: right;\n",
       "    }\n",
       "</style>\n",
       "<table border=\"1\" class=\"dataframe\">\n",
       "  <thead>\n",
       "    <tr style=\"text-align: right;\">\n",
       "      <th></th>\n",
       "      <th>A</th>\n",
       "      <th>B</th>\n",
       "      <th>C</th>\n",
       "      <th>D</th>\n",
       "      <th>E</th>\n",
       "      <th>F</th>\n",
       "    </tr>\n",
       "  </thead>\n",
       "  <tbody>\n",
       "    <tr>\n",
       "      <th>0</th>\n",
       "      <td>1.0</td>\n",
       "      <td>2013-01-02</td>\n",
       "      <td>1.0</td>\n",
       "      <td>3</td>\n",
       "      <td>test</td>\n",
       "      <td>foo</td>\n",
       "    </tr>\n",
       "    <tr>\n",
       "      <th>1</th>\n",
       "      <td>1.0</td>\n",
       "      <td>2013-01-02</td>\n",
       "      <td>1.0</td>\n",
       "      <td>3</td>\n",
       "      <td>train</td>\n",
       "      <td>foo</td>\n",
       "    </tr>\n",
       "    <tr>\n",
       "      <th>2</th>\n",
       "      <td>1.0</td>\n",
       "      <td>2013-01-02</td>\n",
       "      <td>1.0</td>\n",
       "      <td>3</td>\n",
       "      <td>test</td>\n",
       "      <td>foo</td>\n",
       "    </tr>\n",
       "    <tr>\n",
       "      <th>3</th>\n",
       "      <td>1.0</td>\n",
       "      <td>2013-01-02</td>\n",
       "      <td>1.0</td>\n",
       "      <td>3</td>\n",
       "      <td>train</td>\n",
       "      <td>foo</td>\n",
       "    </tr>\n",
       "  </tbody>\n",
       "</table>\n",
       "</div>"
      ],
      "text/plain": [
       "     A          B    C  D      E    F\n",
       "0  1.0 2013-01-02  1.0  3   test  foo\n",
       "1  1.0 2013-01-02  1.0  3  train  foo\n",
       "2  1.0 2013-01-02  1.0  3   test  foo\n",
       "3  1.0 2013-01-02  1.0  3  train  foo"
      ]
     },
     "execution_count": 10,
     "metadata": {},
     "output_type": "execute_result"
    }
   ],
   "source": [
    "df2"
   ]
  },
  {
   "cell_type": "code",
   "execution_count": 11,
   "id": "8d6d676b",
   "metadata": {},
   "outputs": [
    {
     "data": {
      "text/plain": [
       "A           float64\n",
       "B    datetime64[ns]\n",
       "C           float32\n",
       "D             int32\n",
       "E          category\n",
       "F            object\n",
       "dtype: object"
      ]
     },
     "execution_count": 11,
     "metadata": {},
     "output_type": "execute_result"
    }
   ],
   "source": [
    "df2.dtypes"
   ]
  },
  {
   "cell_type": "markdown",
   "id": "c99c9e4e",
   "metadata": {},
   "source": [
    "## 以下是查看框架顶行和底行的方法："
   ]
  },
  {
   "cell_type": "markdown",
   "id": "866bb136",
   "metadata": {},
   "source": [
    "### 选择单列，产生a.series"
   ]
  },
  {
   "cell_type": "code",
   "execution_count": 12,
   "id": "8fa583f7",
   "metadata": {},
   "outputs": [
    {
     "data": {
      "text/html": [
       "<div>\n",
       "<style scoped>\n",
       "    .dataframe tbody tr th:only-of-type {\n",
       "        vertical-align: middle;\n",
       "    }\n",
       "\n",
       "    .dataframe tbody tr th {\n",
       "        vertical-align: top;\n",
       "    }\n",
       "\n",
       "    .dataframe thead th {\n",
       "        text-align: right;\n",
       "    }\n",
       "</style>\n",
       "<table border=\"1\" class=\"dataframe\">\n",
       "  <thead>\n",
       "    <tr style=\"text-align: right;\">\n",
       "      <th></th>\n",
       "      <th>A</th>\n",
       "      <th>B</th>\n",
       "      <th>C</th>\n",
       "      <th>D</th>\n",
       "    </tr>\n",
       "  </thead>\n",
       "  <tbody>\n",
       "    <tr>\n",
       "      <th>2001-12-30</th>\n",
       "      <td>-0.753951</td>\n",
       "      <td>0.168511</td>\n",
       "      <td>0.533187</td>\n",
       "      <td>1.370839</td>\n",
       "    </tr>\n",
       "    <tr>\n",
       "      <th>2001-12-31</th>\n",
       "      <td>0.749287</td>\n",
       "      <td>-0.124941</td>\n",
       "      <td>-1.402810</td>\n",
       "      <td>1.516351</td>\n",
       "    </tr>\n",
       "    <tr>\n",
       "      <th>2002-01-01</th>\n",
       "      <td>0.304845</td>\n",
       "      <td>-0.567577</td>\n",
       "      <td>-0.600095</td>\n",
       "      <td>-2.338366</td>\n",
       "    </tr>\n",
       "    <tr>\n",
       "      <th>2002-01-02</th>\n",
       "      <td>0.082359</td>\n",
       "      <td>-0.107569</td>\n",
       "      <td>0.138668</td>\n",
       "      <td>0.311240</td>\n",
       "    </tr>\n",
       "    <tr>\n",
       "      <th>2002-01-03</th>\n",
       "      <td>-0.507269</td>\n",
       "      <td>1.104100</td>\n",
       "      <td>0.941182</td>\n",
       "      <td>-0.223680</td>\n",
       "    </tr>\n",
       "  </tbody>\n",
       "</table>\n",
       "</div>"
      ],
      "text/plain": [
       "                   A         B         C         D\n",
       "2001-12-30 -0.753951  0.168511  0.533187  1.370839\n",
       "2001-12-31  0.749287 -0.124941 -1.402810  1.516351\n",
       "2002-01-01  0.304845 -0.567577 -0.600095 -2.338366\n",
       "2002-01-02  0.082359 -0.107569  0.138668  0.311240\n",
       "2002-01-03 -0.507269  1.104100  0.941182 -0.223680"
      ]
     },
     "execution_count": 12,
     "metadata": {},
     "output_type": "execute_result"
    }
   ],
   "source": [
    "df.head()"
   ]
  },
  {
   "cell_type": "code",
   "execution_count": 13,
   "id": "b6b59e77",
   "metadata": {},
   "outputs": [
    {
     "data": {
      "text/html": [
       "<div>\n",
       "<style scoped>\n",
       "    .dataframe tbody tr th:only-of-type {\n",
       "        vertical-align: middle;\n",
       "    }\n",
       "\n",
       "    .dataframe tbody tr th {\n",
       "        vertical-align: top;\n",
       "    }\n",
       "\n",
       "    .dataframe thead th {\n",
       "        text-align: right;\n",
       "    }\n",
       "</style>\n",
       "<table border=\"1\" class=\"dataframe\">\n",
       "  <thead>\n",
       "    <tr style=\"text-align: right;\">\n",
       "      <th></th>\n",
       "      <th>A</th>\n",
       "      <th>B</th>\n",
       "      <th>C</th>\n",
       "      <th>D</th>\n",
       "    </tr>\n",
       "  </thead>\n",
       "  <tbody>\n",
       "    <tr>\n",
       "      <th>2002-01-02</th>\n",
       "      <td>0.082359</td>\n",
       "      <td>-0.107569</td>\n",
       "      <td>0.138668</td>\n",
       "      <td>0.311240</td>\n",
       "    </tr>\n",
       "    <tr>\n",
       "      <th>2002-01-03</th>\n",
       "      <td>-0.507269</td>\n",
       "      <td>1.104100</td>\n",
       "      <td>0.941182</td>\n",
       "      <td>-0.223680</td>\n",
       "    </tr>\n",
       "    <tr>\n",
       "      <th>2002-01-04</th>\n",
       "      <td>1.482971</td>\n",
       "      <td>0.059103</td>\n",
       "      <td>1.555629</td>\n",
       "      <td>-0.412982</td>\n",
       "    </tr>\n",
       "  </tbody>\n",
       "</table>\n",
       "</div>"
      ],
      "text/plain": [
       "                   A         B         C         D\n",
       "2002-01-02  0.082359 -0.107569  0.138668  0.311240\n",
       "2002-01-03 -0.507269  1.104100  0.941182 -0.223680\n",
       "2002-01-04  1.482971  0.059103  1.555629 -0.412982"
      ]
     },
     "execution_count": 13,
     "metadata": {},
     "output_type": "execute_result"
    }
   ],
   "source": [
    "df.tail(3)"
   ]
  },
  {
   "cell_type": "markdown",
   "id": "4c7d37c2",
   "metadata": {},
   "source": [
    "### 显示索引、列："
   ]
  },
  {
   "cell_type": "code",
   "execution_count": 14,
   "id": "4c6126ba",
   "metadata": {},
   "outputs": [
    {
     "data": {
      "text/plain": [
       "DatetimeIndex(['2001-12-30', '2001-12-31', '2002-01-01', '2002-01-02',\n",
       "               '2002-01-03', '2002-01-04'],\n",
       "              dtype='datetime64[ns]', freq='D')"
      ]
     },
     "execution_count": 14,
     "metadata": {},
     "output_type": "execute_result"
    }
   ],
   "source": [
    "df.index"
   ]
  },
  {
   "cell_type": "code",
   "execution_count": 15,
   "id": "8699ae82",
   "metadata": {},
   "outputs": [
    {
     "data": {
      "text/plain": [
       "Index(['A', 'B', 'C', 'D'], dtype='object')"
      ]
     },
     "execution_count": 15,
     "metadata": {},
     "output_type": "execute_result"
    }
   ],
   "source": [
    "df.columns"
   ]
  },
  {
   "cell_type": "markdown",
   "id": "6202dc54",
   "metadata": {},
   "source": [
    "DataFrame.to_numpy() gives a NumPy representation of the underlying data. Note that this can be an expensive operation when your DataFrame has columns with different data types, which comes down to a fundamental difference between pandas and NumPy: NumPy arrays have one dtype for the entire array, while pandas DataFrames have one dtype per column. When you call DataFrame.to_numpy(), pandas will find the NumPy dtype that can hold all of the dtypes in the DataFrame. This may end up being object, which requires casting every value to a Python object."
   ]
  },
  {
   "cell_type": "code",
   "execution_count": 16,
   "id": "ef4cd2d0",
   "metadata": {},
   "outputs": [
    {
     "data": {
      "text/plain": [
       "array([[-0.75395082,  0.16851127,  0.53318689,  1.37083919],\n",
       "       [ 0.74928713, -0.12494096, -1.40280962,  1.51635081],\n",
       "       [ 0.30484475, -0.56757675, -0.60009452, -2.33836572],\n",
       "       [ 0.08235914, -0.10756859,  0.13866838,  0.31123961],\n",
       "       [-0.50726873,  1.10410043,  0.94118248, -0.22367999],\n",
       "       [ 1.48297087,  0.05910321,  1.55562889, -0.41298161]])"
      ]
     },
     "execution_count": 16,
     "metadata": {},
     "output_type": "execute_result"
    }
   ],
   "source": [
    "df.to_numpy()"
   ]
  },
  {
   "cell_type": "markdown",
   "id": "3782483a",
   "metadata": {},
   "source": [
    "For df2, the DataFrame with multiple dtypes, DataFrame.to_numpy() is relatively expensive."
   ]
  },
  {
   "cell_type": "code",
   "execution_count": 17,
   "id": "b16d1c76",
   "metadata": {},
   "outputs": [
    {
     "data": {
      "text/plain": [
       "array([[1.0, Timestamp('2013-01-02 00:00:00'), 1.0, 3, 'test', 'foo'],\n",
       "       [1.0, Timestamp('2013-01-02 00:00:00'), 1.0, 3, 'train', 'foo'],\n",
       "       [1.0, Timestamp('2013-01-02 00:00:00'), 1.0, 3, 'test', 'foo'],\n",
       "       [1.0, Timestamp('2013-01-02 00:00:00'), 1.0, 3, 'train', 'foo']],\n",
       "      dtype=object)"
      ]
     },
     "execution_count": 17,
     "metadata": {},
     "output_type": "execute_result"
    }
   ],
   "source": [
    "df2.to_numpy()"
   ]
  },
  {
   "cell_type": "markdown",
   "id": "dde578a9",
   "metadata": {},
   "source": [
    "DataFrame.to_numpy() does not include the index or column labels in the output."
   ]
  },
  {
   "cell_type": "markdown",
   "id": "771f0323",
   "metadata": {},
   "source": [
    "### describe() 显示数据的快速统计摘要："
   ]
  },
  {
   "cell_type": "code",
   "execution_count": 18,
   "id": "2f603a1d",
   "metadata": {},
   "outputs": [
    {
     "data": {
      "text/html": [
       "<div>\n",
       "<style scoped>\n",
       "    .dataframe tbody tr th:only-of-type {\n",
       "        vertical-align: middle;\n",
       "    }\n",
       "\n",
       "    .dataframe tbody tr th {\n",
       "        vertical-align: top;\n",
       "    }\n",
       "\n",
       "    .dataframe thead th {\n",
       "        text-align: right;\n",
       "    }\n",
       "</style>\n",
       "<table border=\"1\" class=\"dataframe\">\n",
       "  <thead>\n",
       "    <tr style=\"text-align: right;\">\n",
       "      <th></th>\n",
       "      <th>A</th>\n",
       "      <th>B</th>\n",
       "      <th>C</th>\n",
       "      <th>D</th>\n",
       "    </tr>\n",
       "  </thead>\n",
       "  <tbody>\n",
       "    <tr>\n",
       "      <th>count</th>\n",
       "      <td>6.000000</td>\n",
       "      <td>6.000000</td>\n",
       "      <td>6.000000</td>\n",
       "      <td>6.000000</td>\n",
       "    </tr>\n",
       "    <tr>\n",
       "      <th>mean</th>\n",
       "      <td>0.226374</td>\n",
       "      <td>0.088605</td>\n",
       "      <td>0.194294</td>\n",
       "      <td>0.037234</td>\n",
       "    </tr>\n",
       "    <tr>\n",
       "      <th>std</th>\n",
       "      <td>0.822027</td>\n",
       "      <td>0.557341</td>\n",
       "      <td>1.068720</td>\n",
       "      <td>1.411071</td>\n",
       "    </tr>\n",
       "    <tr>\n",
       "      <th>min</th>\n",
       "      <td>-0.753951</td>\n",
       "      <td>-0.567577</td>\n",
       "      <td>-1.402810</td>\n",
       "      <td>-2.338366</td>\n",
       "    </tr>\n",
       "    <tr>\n",
       "      <th>25%</th>\n",
       "      <td>-0.359862</td>\n",
       "      <td>-0.120598</td>\n",
       "      <td>-0.415404</td>\n",
       "      <td>-0.365656</td>\n",
       "    </tr>\n",
       "    <tr>\n",
       "      <th>50%</th>\n",
       "      <td>0.193602</td>\n",
       "      <td>-0.024233</td>\n",
       "      <td>0.335928</td>\n",
       "      <td>0.043780</td>\n",
       "    </tr>\n",
       "    <tr>\n",
       "      <th>75%</th>\n",
       "      <td>0.638177</td>\n",
       "      <td>0.141159</td>\n",
       "      <td>0.839184</td>\n",
       "      <td>1.105939</td>\n",
       "    </tr>\n",
       "    <tr>\n",
       "      <th>max</th>\n",
       "      <td>1.482971</td>\n",
       "      <td>1.104100</td>\n",
       "      <td>1.555629</td>\n",
       "      <td>1.516351</td>\n",
       "    </tr>\n",
       "  </tbody>\n",
       "</table>\n",
       "</div>"
      ],
      "text/plain": [
       "              A         B         C         D\n",
       "count  6.000000  6.000000  6.000000  6.000000\n",
       "mean   0.226374  0.088605  0.194294  0.037234\n",
       "std    0.822027  0.557341  1.068720  1.411071\n",
       "min   -0.753951 -0.567577 -1.402810 -2.338366\n",
       "25%   -0.359862 -0.120598 -0.415404 -0.365656\n",
       "50%    0.193602 -0.024233  0.335928  0.043780\n",
       "75%    0.638177  0.141159  0.839184  1.105939\n",
       "max    1.482971  1.104100  1.555629  1.516351"
      ]
     },
     "execution_count": 18,
     "metadata": {},
     "output_type": "execute_result"
    }
   ],
   "source": [
    "df.describe()"
   ]
  },
  {
   "cell_type": "markdown",
   "id": "451c806e",
   "metadata": {},
   "source": [
    "### 转置"
   ]
  },
  {
   "cell_type": "code",
   "execution_count": 19,
   "id": "dc6b0556",
   "metadata": {},
   "outputs": [
    {
     "data": {
      "text/html": [
       "<div>\n",
       "<style scoped>\n",
       "    .dataframe tbody tr th:only-of-type {\n",
       "        vertical-align: middle;\n",
       "    }\n",
       "\n",
       "    .dataframe tbody tr th {\n",
       "        vertical-align: top;\n",
       "    }\n",
       "\n",
       "    .dataframe thead th {\n",
       "        text-align: right;\n",
       "    }\n",
       "</style>\n",
       "<table border=\"1\" class=\"dataframe\">\n",
       "  <thead>\n",
       "    <tr style=\"text-align: right;\">\n",
       "      <th></th>\n",
       "      <th>2001-12-30</th>\n",
       "      <th>2001-12-31</th>\n",
       "      <th>2002-01-01</th>\n",
       "      <th>2002-01-02</th>\n",
       "      <th>2002-01-03</th>\n",
       "      <th>2002-01-04</th>\n",
       "    </tr>\n",
       "  </thead>\n",
       "  <tbody>\n",
       "    <tr>\n",
       "      <th>A</th>\n",
       "      <td>-0.753951</td>\n",
       "      <td>0.749287</td>\n",
       "      <td>0.304845</td>\n",
       "      <td>0.082359</td>\n",
       "      <td>-0.507269</td>\n",
       "      <td>1.482971</td>\n",
       "    </tr>\n",
       "    <tr>\n",
       "      <th>B</th>\n",
       "      <td>0.168511</td>\n",
       "      <td>-0.124941</td>\n",
       "      <td>-0.567577</td>\n",
       "      <td>-0.107569</td>\n",
       "      <td>1.104100</td>\n",
       "      <td>0.059103</td>\n",
       "    </tr>\n",
       "    <tr>\n",
       "      <th>C</th>\n",
       "      <td>0.533187</td>\n",
       "      <td>-1.402810</td>\n",
       "      <td>-0.600095</td>\n",
       "      <td>0.138668</td>\n",
       "      <td>0.941182</td>\n",
       "      <td>1.555629</td>\n",
       "    </tr>\n",
       "    <tr>\n",
       "      <th>D</th>\n",
       "      <td>1.370839</td>\n",
       "      <td>1.516351</td>\n",
       "      <td>-2.338366</td>\n",
       "      <td>0.311240</td>\n",
       "      <td>-0.223680</td>\n",
       "      <td>-0.412982</td>\n",
       "    </tr>\n",
       "  </tbody>\n",
       "</table>\n",
       "</div>"
      ],
      "text/plain": [
       "   2001-12-30  2001-12-31  2002-01-01  2002-01-02  2002-01-03  2002-01-04\n",
       "A   -0.753951    0.749287    0.304845    0.082359   -0.507269    1.482971\n",
       "B    0.168511   -0.124941   -0.567577   -0.107569    1.104100    0.059103\n",
       "C    0.533187   -1.402810   -0.600095    0.138668    0.941182    1.555629\n",
       "D    1.370839    1.516351   -2.338366    0.311240   -0.223680   -0.412982"
      ]
     },
     "execution_count": 19,
     "metadata": {},
     "output_type": "execute_result"
    }
   ],
   "source": [
    "df.T"
   ]
  },
  {
   "cell_type": "markdown",
   "id": "996d6708",
   "metadata": {},
   "source": [
    "### 按轴排序"
   ]
  },
  {
   "cell_type": "code",
   "execution_count": 20,
   "id": "b1c60be0",
   "metadata": {},
   "outputs": [
    {
     "data": {
      "text/html": [
       "<div>\n",
       "<style scoped>\n",
       "    .dataframe tbody tr th:only-of-type {\n",
       "        vertical-align: middle;\n",
       "    }\n",
       "\n",
       "    .dataframe tbody tr th {\n",
       "        vertical-align: top;\n",
       "    }\n",
       "\n",
       "    .dataframe thead th {\n",
       "        text-align: right;\n",
       "    }\n",
       "</style>\n",
       "<table border=\"1\" class=\"dataframe\">\n",
       "  <thead>\n",
       "    <tr style=\"text-align: right;\">\n",
       "      <th></th>\n",
       "      <th>D</th>\n",
       "      <th>C</th>\n",
       "      <th>B</th>\n",
       "      <th>A</th>\n",
       "    </tr>\n",
       "  </thead>\n",
       "  <tbody>\n",
       "    <tr>\n",
       "      <th>2001-12-30</th>\n",
       "      <td>1.370839</td>\n",
       "      <td>0.533187</td>\n",
       "      <td>0.168511</td>\n",
       "      <td>-0.753951</td>\n",
       "    </tr>\n",
       "    <tr>\n",
       "      <th>2001-12-31</th>\n",
       "      <td>1.516351</td>\n",
       "      <td>-1.402810</td>\n",
       "      <td>-0.124941</td>\n",
       "      <td>0.749287</td>\n",
       "    </tr>\n",
       "    <tr>\n",
       "      <th>2002-01-01</th>\n",
       "      <td>-2.338366</td>\n",
       "      <td>-0.600095</td>\n",
       "      <td>-0.567577</td>\n",
       "      <td>0.304845</td>\n",
       "    </tr>\n",
       "    <tr>\n",
       "      <th>2002-01-02</th>\n",
       "      <td>0.311240</td>\n",
       "      <td>0.138668</td>\n",
       "      <td>-0.107569</td>\n",
       "      <td>0.082359</td>\n",
       "    </tr>\n",
       "    <tr>\n",
       "      <th>2002-01-03</th>\n",
       "      <td>-0.223680</td>\n",
       "      <td>0.941182</td>\n",
       "      <td>1.104100</td>\n",
       "      <td>-0.507269</td>\n",
       "    </tr>\n",
       "    <tr>\n",
       "      <th>2002-01-04</th>\n",
       "      <td>-0.412982</td>\n",
       "      <td>1.555629</td>\n",
       "      <td>0.059103</td>\n",
       "      <td>1.482971</td>\n",
       "    </tr>\n",
       "  </tbody>\n",
       "</table>\n",
       "</div>"
      ],
      "text/plain": [
       "                   D         C         B         A\n",
       "2001-12-30  1.370839  0.533187  0.168511 -0.753951\n",
       "2001-12-31  1.516351 -1.402810 -0.124941  0.749287\n",
       "2002-01-01 -2.338366 -0.600095 -0.567577  0.304845\n",
       "2002-01-02  0.311240  0.138668 -0.107569  0.082359\n",
       "2002-01-03 -0.223680  0.941182  1.104100 -0.507269\n",
       "2002-01-04 -0.412982  1.555629  0.059103  1.482971"
      ]
     },
     "execution_count": 20,
     "metadata": {},
     "output_type": "execute_result"
    }
   ],
   "source": [
    "df.sort_index(axis=1, ascending=False)"
   ]
  },
  {
   "cell_type": "markdown",
   "id": "cbf11414",
   "metadata": {},
   "source": [
    "### 按值排序"
   ]
  },
  {
   "cell_type": "code",
   "execution_count": 21,
   "id": "fdd819cc",
   "metadata": {},
   "outputs": [
    {
     "data": {
      "text/html": [
       "<div>\n",
       "<style scoped>\n",
       "    .dataframe tbody tr th:only-of-type {\n",
       "        vertical-align: middle;\n",
       "    }\n",
       "\n",
       "    .dataframe tbody tr th {\n",
       "        vertical-align: top;\n",
       "    }\n",
       "\n",
       "    .dataframe thead th {\n",
       "        text-align: right;\n",
       "    }\n",
       "</style>\n",
       "<table border=\"1\" class=\"dataframe\">\n",
       "  <thead>\n",
       "    <tr style=\"text-align: right;\">\n",
       "      <th></th>\n",
       "      <th>A</th>\n",
       "      <th>B</th>\n",
       "      <th>C</th>\n",
       "      <th>D</th>\n",
       "    </tr>\n",
       "  </thead>\n",
       "  <tbody>\n",
       "    <tr>\n",
       "      <th>2002-01-01</th>\n",
       "      <td>0.304845</td>\n",
       "      <td>-0.567577</td>\n",
       "      <td>-0.600095</td>\n",
       "      <td>-2.338366</td>\n",
       "    </tr>\n",
       "    <tr>\n",
       "      <th>2001-12-31</th>\n",
       "      <td>0.749287</td>\n",
       "      <td>-0.124941</td>\n",
       "      <td>-1.402810</td>\n",
       "      <td>1.516351</td>\n",
       "    </tr>\n",
       "    <tr>\n",
       "      <th>2002-01-02</th>\n",
       "      <td>0.082359</td>\n",
       "      <td>-0.107569</td>\n",
       "      <td>0.138668</td>\n",
       "      <td>0.311240</td>\n",
       "    </tr>\n",
       "    <tr>\n",
       "      <th>2002-01-04</th>\n",
       "      <td>1.482971</td>\n",
       "      <td>0.059103</td>\n",
       "      <td>1.555629</td>\n",
       "      <td>-0.412982</td>\n",
       "    </tr>\n",
       "    <tr>\n",
       "      <th>2001-12-30</th>\n",
       "      <td>-0.753951</td>\n",
       "      <td>0.168511</td>\n",
       "      <td>0.533187</td>\n",
       "      <td>1.370839</td>\n",
       "    </tr>\n",
       "    <tr>\n",
       "      <th>2002-01-03</th>\n",
       "      <td>-0.507269</td>\n",
       "      <td>1.104100</td>\n",
       "      <td>0.941182</td>\n",
       "      <td>-0.223680</td>\n",
       "    </tr>\n",
       "  </tbody>\n",
       "</table>\n",
       "</div>"
      ],
      "text/plain": [
       "                   A         B         C         D\n",
       "2002-01-01  0.304845 -0.567577 -0.600095 -2.338366\n",
       "2001-12-31  0.749287 -0.124941 -1.402810  1.516351\n",
       "2002-01-02  0.082359 -0.107569  0.138668  0.311240\n",
       "2002-01-04  1.482971  0.059103  1.555629 -0.412982\n",
       "2001-12-30 -0.753951  0.168511  0.533187  1.370839\n",
       "2002-01-03 -0.507269  1.104100  0.941182 -0.223680"
      ]
     },
     "execution_count": 21,
     "metadata": {},
     "output_type": "execute_result"
    }
   ],
   "source": [
    "df.sort_values(by=\"B\")"
   ]
  },
  {
   "cell_type": "markdown",
   "id": "741acd1b",
   "metadata": {},
   "source": [
    "## 获取\n",
    "### 选择单列，产生a Series,相当于df.A"
   ]
  },
  {
   "cell_type": "code",
   "execution_count": 22,
   "id": "36cc1e66",
   "metadata": {},
   "outputs": [
    {
     "data": {
      "text/plain": [
       "2001-12-30   -0.753951\n",
       "2001-12-31    0.749287\n",
       "2002-01-01    0.304845\n",
       "2002-01-02    0.082359\n",
       "2002-01-03   -0.507269\n",
       "2002-01-04    1.482971\n",
       "Freq: D, Name: A, dtype: float64"
      ]
     },
     "execution_count": 22,
     "metadata": {},
     "output_type": "execute_result"
    }
   ],
   "source": [
    "df[\"A\"]"
   ]
  },
  {
   "cell_type": "markdown",
   "id": "0929b4bd",
   "metadata": {},
   "source": [
    "### 选择via[],进行切片"
   ]
  },
  {
   "cell_type": "code",
   "execution_count": 23,
   "id": "e3684ee1",
   "metadata": {},
   "outputs": [
    {
     "data": {
      "text/html": [
       "<div>\n",
       "<style scoped>\n",
       "    .dataframe tbody tr th:only-of-type {\n",
       "        vertical-align: middle;\n",
       "    }\n",
       "\n",
       "    .dataframe tbody tr th {\n",
       "        vertical-align: top;\n",
       "    }\n",
       "\n",
       "    .dataframe thead th {\n",
       "        text-align: right;\n",
       "    }\n",
       "</style>\n",
       "<table border=\"1\" class=\"dataframe\">\n",
       "  <thead>\n",
       "    <tr style=\"text-align: right;\">\n",
       "      <th></th>\n",
       "      <th>A</th>\n",
       "      <th>B</th>\n",
       "      <th>C</th>\n",
       "      <th>D</th>\n",
       "    </tr>\n",
       "  </thead>\n",
       "  <tbody>\n",
       "    <tr>\n",
       "      <th>2001-12-30</th>\n",
       "      <td>-0.753951</td>\n",
       "      <td>0.168511</td>\n",
       "      <td>0.533187</td>\n",
       "      <td>1.370839</td>\n",
       "    </tr>\n",
       "    <tr>\n",
       "      <th>2001-12-31</th>\n",
       "      <td>0.749287</td>\n",
       "      <td>-0.124941</td>\n",
       "      <td>-1.402810</td>\n",
       "      <td>1.516351</td>\n",
       "    </tr>\n",
       "    <tr>\n",
       "      <th>2002-01-01</th>\n",
       "      <td>0.304845</td>\n",
       "      <td>-0.567577</td>\n",
       "      <td>-0.600095</td>\n",
       "      <td>-2.338366</td>\n",
       "    </tr>\n",
       "  </tbody>\n",
       "</table>\n",
       "</div>"
      ],
      "text/plain": [
       "                   A         B         C         D\n",
       "2001-12-30 -0.753951  0.168511  0.533187  1.370839\n",
       "2001-12-31  0.749287 -0.124941 -1.402810  1.516351\n",
       "2002-01-01  0.304845 -0.567577 -0.600095 -2.338366"
      ]
     },
     "execution_count": 23,
     "metadata": {},
     "output_type": "execute_result"
    }
   ],
   "source": [
    "df[0:3]"
   ]
  },
  {
   "cell_type": "code",
   "execution_count": 24,
   "id": "29f92049",
   "metadata": {},
   "outputs": [
    {
     "data": {
      "text/html": [
       "<div>\n",
       "<style scoped>\n",
       "    .dataframe tbody tr th:only-of-type {\n",
       "        vertical-align: middle;\n",
       "    }\n",
       "\n",
       "    .dataframe tbody tr th {\n",
       "        vertical-align: top;\n",
       "    }\n",
       "\n",
       "    .dataframe thead th {\n",
       "        text-align: right;\n",
       "    }\n",
       "</style>\n",
       "<table border=\"1\" class=\"dataframe\">\n",
       "  <thead>\n",
       "    <tr style=\"text-align: right;\">\n",
       "      <th></th>\n",
       "      <th>A</th>\n",
       "      <th>B</th>\n",
       "      <th>C</th>\n",
       "      <th>D</th>\n",
       "    </tr>\n",
       "  </thead>\n",
       "  <tbody>\n",
       "    <tr>\n",
       "      <th>2001-12-30</th>\n",
       "      <td>-0.753951</td>\n",
       "      <td>0.168511</td>\n",
       "      <td>0.533187</td>\n",
       "      <td>1.370839</td>\n",
       "    </tr>\n",
       "    <tr>\n",
       "      <th>2001-12-31</th>\n",
       "      <td>0.749287</td>\n",
       "      <td>-0.124941</td>\n",
       "      <td>-1.402810</td>\n",
       "      <td>1.516351</td>\n",
       "    </tr>\n",
       "    <tr>\n",
       "      <th>2002-01-01</th>\n",
       "      <td>0.304845</td>\n",
       "      <td>-0.567577</td>\n",
       "      <td>-0.600095</td>\n",
       "      <td>-2.338366</td>\n",
       "    </tr>\n",
       "    <tr>\n",
       "      <th>2002-01-02</th>\n",
       "      <td>0.082359</td>\n",
       "      <td>-0.107569</td>\n",
       "      <td>0.138668</td>\n",
       "      <td>0.311240</td>\n",
       "    </tr>\n",
       "  </tbody>\n",
       "</table>\n",
       "</div>"
      ],
      "text/plain": [
       "                   A         B         C         D\n",
       "2001-12-30 -0.753951  0.168511  0.533187  1.370839\n",
       "2001-12-31  0.749287 -0.124941 -1.402810  1.516351\n",
       "2002-01-01  0.304845 -0.567577 -0.600095 -2.338366\n",
       "2002-01-02  0.082359 -0.107569  0.138668  0.311240"
      ]
     },
     "execution_count": 24,
     "metadata": {},
     "output_type": "execute_result"
    }
   ],
   "source": [
    "df[\"20011230\":\"20020102\"]"
   ]
  },
  {
   "cell_type": "markdown",
   "id": "d74af5c4",
   "metadata": {},
   "source": [
    "## 按标签选择"
   ]
  },
  {
   "cell_type": "markdown",
   "id": "27728d68",
   "metadata": {},
   "source": [
    "### 使用标签获取横截面 "
   ]
  },
  {
   "cell_type": "code",
   "execution_count": 25,
   "id": "15cb3e0f",
   "metadata": {},
   "outputs": [
    {
     "data": {
      "text/plain": [
       "A   -0.753951\n",
       "B    0.168511\n",
       "C    0.533187\n",
       "D    1.370839\n",
       "Name: 2001-12-30 00:00:00, dtype: float64"
      ]
     },
     "execution_count": 25,
     "metadata": {},
     "output_type": "execute_result"
    }
   ],
   "source": [
    "df.loc[dates[0]]"
   ]
  }
 ],
 "metadata": {
  "kernelspec": {
   "display_name": "Python 3",
   "language": "python",
   "name": "python3"
  },
  "language_info": {
   "codemirror_mode": {
    "name": "ipython",
    "version": 3
   },
   "file_extension": ".py",
   "mimetype": "text/x-python",
   "name": "python",
   "nbconvert_exporter": "python",
   "pygments_lexer": "ipython3",
   "version": "3.8.8"
  }
 },
 "nbformat": 4,
 "nbformat_minor": 5
}